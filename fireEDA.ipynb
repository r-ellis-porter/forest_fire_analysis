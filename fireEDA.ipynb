{
 "cells": [
  {
   "cell_type": "markdown",
   "id": "b448d5c7",
   "metadata": {},
   "source": [
    "# Forest Fire Analysis\n",
    "\n",
    "### Felix Egwuagu, Kidus Gorfe, Ellis Porter "
   ]
  },
  {
   "cell_type": "code",
   "execution_count": 7,
   "id": "5c323343",
   "metadata": {},
   "outputs": [],
   "source": [
    "# dependencies and setup\n",
    "\n",
    "import matplotlib.pyplot as plt\n",
    "import pandas as pd\n",
    "import hvplot.pandas\n",
    "# from pprint import pprint\n",
    "import scipy.stats as st\n",
    "import numpy as np\n",
    "from scipy.stats import linregress\n",
    "\n",
    "\n",
    "import warnings\n",
    "warnings.filterwarnings('ignore')"
   ]
  },
  {
   "cell_type": "code",
   "execution_count": 8,
   "id": "0a77ce41",
   "metadata": {
    "scrolled": false
   },
   "outputs": [
    {
     "data": {
      "text/html": [
       "<div>\n",
       "<style scoped>\n",
       "    .dataframe tbody tr th:only-of-type {\n",
       "        vertical-align: middle;\n",
       "    }\n",
       "\n",
       "    .dataframe tbody tr th {\n",
       "        vertical-align: top;\n",
       "    }\n",
       "\n",
       "    .dataframe thead th {\n",
       "        text-align: right;\n",
       "    }\n",
       "</style>\n",
       "<table border=\"1\" class=\"dataframe\">\n",
       "  <thead>\n",
       "    <tr style=\"text-align: right;\">\n",
       "      <th></th>\n",
       "      <th>X</th>\n",
       "      <th>Y</th>\n",
       "      <th>month</th>\n",
       "      <th>day</th>\n",
       "      <th>FFMC</th>\n",
       "      <th>DMC</th>\n",
       "      <th>DC</th>\n",
       "      <th>ISI</th>\n",
       "      <th>temp</th>\n",
       "      <th>RH</th>\n",
       "      <th>wind</th>\n",
       "      <th>rain</th>\n",
       "      <th>area</th>\n",
       "    </tr>\n",
       "  </thead>\n",
       "  <tbody>\n",
       "    <tr>\n",
       "      <th>0</th>\n",
       "      <td>7</td>\n",
       "      <td>5</td>\n",
       "      <td>mar</td>\n",
       "      <td>fri</td>\n",
       "      <td>86.2</td>\n",
       "      <td>26.2</td>\n",
       "      <td>94.3</td>\n",
       "      <td>5.1</td>\n",
       "      <td>8.2</td>\n",
       "      <td>51</td>\n",
       "      <td>6.7</td>\n",
       "      <td>0.0</td>\n",
       "      <td>0.0</td>\n",
       "    </tr>\n",
       "    <tr>\n",
       "      <th>1</th>\n",
       "      <td>7</td>\n",
       "      <td>4</td>\n",
       "      <td>oct</td>\n",
       "      <td>tue</td>\n",
       "      <td>90.6</td>\n",
       "      <td>35.4</td>\n",
       "      <td>669.1</td>\n",
       "      <td>6.7</td>\n",
       "      <td>18.0</td>\n",
       "      <td>33</td>\n",
       "      <td>0.9</td>\n",
       "      <td>0.0</td>\n",
       "      <td>0.0</td>\n",
       "    </tr>\n",
       "    <tr>\n",
       "      <th>2</th>\n",
       "      <td>7</td>\n",
       "      <td>4</td>\n",
       "      <td>oct</td>\n",
       "      <td>sat</td>\n",
       "      <td>90.6</td>\n",
       "      <td>43.7</td>\n",
       "      <td>686.9</td>\n",
       "      <td>6.7</td>\n",
       "      <td>14.6</td>\n",
       "      <td>33</td>\n",
       "      <td>1.3</td>\n",
       "      <td>0.0</td>\n",
       "      <td>0.0</td>\n",
       "    </tr>\n",
       "    <tr>\n",
       "      <th>3</th>\n",
       "      <td>8</td>\n",
       "      <td>6</td>\n",
       "      <td>mar</td>\n",
       "      <td>fri</td>\n",
       "      <td>91.7</td>\n",
       "      <td>33.3</td>\n",
       "      <td>77.5</td>\n",
       "      <td>9.0</td>\n",
       "      <td>8.3</td>\n",
       "      <td>97</td>\n",
       "      <td>4.0</td>\n",
       "      <td>0.2</td>\n",
       "      <td>0.0</td>\n",
       "    </tr>\n",
       "    <tr>\n",
       "      <th>4</th>\n",
       "      <td>8</td>\n",
       "      <td>6</td>\n",
       "      <td>mar</td>\n",
       "      <td>sun</td>\n",
       "      <td>89.3</td>\n",
       "      <td>51.3</td>\n",
       "      <td>102.2</td>\n",
       "      <td>9.6</td>\n",
       "      <td>11.4</td>\n",
       "      <td>99</td>\n",
       "      <td>1.8</td>\n",
       "      <td>0.0</td>\n",
       "      <td>0.0</td>\n",
       "    </tr>\n",
       "  </tbody>\n",
       "</table>\n",
       "</div>"
      ],
      "text/plain": [
       "   X  Y month  day  FFMC   DMC     DC  ISI  temp  RH  wind  rain  area\n",
       "0  7  5   mar  fri  86.2  26.2   94.3  5.1   8.2  51   6.7   0.0   0.0\n",
       "1  7  4   oct  tue  90.6  35.4  669.1  6.7  18.0  33   0.9   0.0   0.0\n",
       "2  7  4   oct  sat  90.6  43.7  686.9  6.7  14.6  33   1.3   0.0   0.0\n",
       "3  8  6   mar  fri  91.7  33.3   77.5  9.0   8.3  97   4.0   0.2   0.0\n",
       "4  8  6   mar  sun  89.3  51.3  102.2  9.6  11.4  99   1.8   0.0   0.0"
      ]
     },
     "execution_count": 8,
     "metadata": {},
     "output_type": "execute_result"
    }
   ],
   "source": [
    "# Import data from csv\n",
    "\n",
    "fire_df = pd.read_csv(\"Resources/forestfires.csv\")\n",
    "\n",
    "fire_df.head()"
   ]
  },
  {
   "cell_type": "markdown",
   "id": "e7b25251",
   "metadata": {},
   "source": [
    "# Column Descriptions\n",
    "\n",
    "For more information, read [Cortez and Morais, 2007].\n",
    "\n",
    "   1. X - x-axis spatial coordinate within the Montesinho park map: 1 to 9\n",
    "\n",
    "   2. Y - y-axis spatial coordinate within the Montesinho park map: 2 to 9\n",
    "\n",
    "   3. month - month of the year: 'jan' to 'dec' \n",
    "\n",
    "   4. day - day of the week: 'mon' to 'sun'\n",
    "\n",
    "   5. Fine Fuel Moisture Code (FFMC) - moisture condition of forest litter fuels (16hr)\n",
    "\n",
    "   6. Duff Moisture Code (DMC) - moisture condition of duff under forest litter (360hr)\n",
    "\n",
    "   7. Drought Code (DC) - moisture condition of deep soil (1272hr)\n",
    "\n",
    "   8. Initial Spread Index (ISI) - spread potential based on FFMC and windspeed\n",
    "\n",
    "   9. temp - temperature in Celsius\n",
    "\n",
    "   10. Relative Humidity (RH) - relative humidity in %\n",
    "\n",
    "   11. wind - wind speed in km/h\n",
    "\n",
    "   12. rain - outside rain in mm/(m^2)\n",
    "\n",
    "   13. area - the burned area of the forest (in ha)\n"
   ]
  },
  {
   "cell_type": "markdown",
   "id": "a95f6835",
   "metadata": {},
   "source": [
    "# Data Description\n",
    "\n",
    "##### Montesinho National Park, north east Portugal\n",
    "##### January 2000 to December 2003\n"
   ]
  },
  {
   "cell_type": "code",
   "execution_count": 9,
   "id": "2c33ea3a",
   "metadata": {
    "scrolled": true
   },
   "outputs": [
    {
     "name": "stdout",
     "output_type": "stream",
     "text": [
      "<class 'pandas.core.frame.DataFrame'>\n",
      "RangeIndex: 517 entries, 0 to 516\n",
      "Data columns (total 13 columns):\n",
      " #   Column  Non-Null Count  Dtype  \n",
      "---  ------  --------------  -----  \n",
      " 0   X       517 non-null    int64  \n",
      " 1   Y       517 non-null    int64  \n",
      " 2   month   517 non-null    object \n",
      " 3   day     517 non-null    object \n",
      " 4   FFMC    517 non-null    float64\n",
      " 5   DMC     517 non-null    float64\n",
      " 6   DC      517 non-null    float64\n",
      " 7   ISI     517 non-null    float64\n",
      " 8   temp    517 non-null    float64\n",
      " 9   RH      517 non-null    int64  \n",
      " 10  wind    517 non-null    float64\n",
      " 11  rain    517 non-null    float64\n",
      " 12  area    517 non-null    float64\n",
      "dtypes: float64(8), int64(3), object(2)\n",
      "memory usage: 52.6+ KB\n"
     ]
    }
   ],
   "source": [
    "fire_df.info()"
   ]
  },
  {
   "cell_type": "code",
   "execution_count": 10,
   "id": "d2910c48",
   "metadata": {
    "scrolled": true
   },
   "outputs": [
    {
     "data": {
      "text/plain": [
       "Index(['X', 'Y', 'month', 'day', 'FFMC', 'DMC', 'DC', 'ISI', 'temp', 'RH',\n",
       "       'wind', 'rain', 'area'],\n",
       "      dtype='object')"
      ]
     },
     "execution_count": 10,
     "metadata": {},
     "output_type": "execute_result"
    }
   ],
   "source": [
    "fire_df.columns"
   ]
  },
  {
   "cell_type": "code",
   "execution_count": 11,
   "id": "9880e86f",
   "metadata": {},
   "outputs": [
    {
     "data": {
      "text/plain": [
       "X        517\n",
       "Y        517\n",
       "month    517\n",
       "day      517\n",
       "FFMC     517\n",
       "DMC      517\n",
       "DC       517\n",
       "ISI      517\n",
       "temp     517\n",
       "RH       517\n",
       "wind     517\n",
       "rain     517\n",
       "area     517\n",
       "dtype: int64"
      ]
     },
     "execution_count": 11,
     "metadata": {},
     "output_type": "execute_result"
    }
   ],
   "source": [
    "# drop NA\n",
    "fire_df = fire_df.dropna(how='any')\n",
    "fire_df.count()"
   ]
  },
  {
   "cell_type": "markdown",
   "id": "6d75aef7",
   "metadata": {},
   "source": [
    "# Total Area Affected by Fire\n",
    "\n",
    "### Per Month"
   ]
  },
  {
   "cell_type": "code",
   "execution_count": 12,
   "id": "05bd81b1",
   "metadata": {
    "scrolled": false
   },
   "outputs": [
    {
     "data": {
      "text/html": [
       "<div>\n",
       "<style scoped>\n",
       "    .dataframe tbody tr th:only-of-type {\n",
       "        vertical-align: middle;\n",
       "    }\n",
       "\n",
       "    .dataframe tbody tr th {\n",
       "        vertical-align: top;\n",
       "    }\n",
       "\n",
       "    .dataframe thead th {\n",
       "        text-align: right;\n",
       "    }\n",
       "</style>\n",
       "<table border=\"1\" class=\"dataframe\">\n",
       "  <thead>\n",
       "    <tr style=\"text-align: right;\">\n",
       "      <th></th>\n",
       "      <th>X</th>\n",
       "      <th>Y</th>\n",
       "      <th>month</th>\n",
       "      <th>day</th>\n",
       "      <th>FFMC</th>\n",
       "      <th>DMC</th>\n",
       "      <th>DC</th>\n",
       "      <th>ISI</th>\n",
       "      <th>temp</th>\n",
       "      <th>RH</th>\n",
       "      <th>wind</th>\n",
       "      <th>rain</th>\n",
       "      <th>area</th>\n",
       "    </tr>\n",
       "  </thead>\n",
       "  <tbody>\n",
       "    <tr>\n",
       "      <th>104</th>\n",
       "      <td>2</td>\n",
       "      <td>4</td>\n",
       "      <td>January</td>\n",
       "      <td>Saturday</td>\n",
       "      <td>82.1</td>\n",
       "      <td>3.7</td>\n",
       "      <td>9.3</td>\n",
       "      <td>2.9</td>\n",
       "      <td>5.3</td>\n",
       "      <td>78</td>\n",
       "      <td>3.1</td>\n",
       "      <td>0.0</td>\n",
       "      <td>0.00</td>\n",
       "    </tr>\n",
       "    <tr>\n",
       "      <th>379</th>\n",
       "      <td>4</td>\n",
       "      <td>5</td>\n",
       "      <td>January</td>\n",
       "      <td>Sunday</td>\n",
       "      <td>18.7</td>\n",
       "      <td>1.1</td>\n",
       "      <td>171.4</td>\n",
       "      <td>0.0</td>\n",
       "      <td>5.2</td>\n",
       "      <td>100</td>\n",
       "      <td>0.9</td>\n",
       "      <td>0.0</td>\n",
       "      <td>0.00</td>\n",
       "    </tr>\n",
       "    <tr>\n",
       "      <th>96</th>\n",
       "      <td>3</td>\n",
       "      <td>4</td>\n",
       "      <td>February</td>\n",
       "      <td>Saturday</td>\n",
       "      <td>83.9</td>\n",
       "      <td>8.0</td>\n",
       "      <td>30.2</td>\n",
       "      <td>2.6</td>\n",
       "      <td>12.7</td>\n",
       "      <td>48</td>\n",
       "      <td>1.8</td>\n",
       "      <td>0.0</td>\n",
       "      <td>0.00</td>\n",
       "    </tr>\n",
       "    <tr>\n",
       "      <th>59</th>\n",
       "      <td>2</td>\n",
       "      <td>2</td>\n",
       "      <td>February</td>\n",
       "      <td>Friday</td>\n",
       "      <td>86.6</td>\n",
       "      <td>13.2</td>\n",
       "      <td>43.0</td>\n",
       "      <td>5.3</td>\n",
       "      <td>12.3</td>\n",
       "      <td>51</td>\n",
       "      <td>0.9</td>\n",
       "      <td>0.0</td>\n",
       "      <td>0.00</td>\n",
       "    </tr>\n",
       "    <tr>\n",
       "      <th>202</th>\n",
       "      <td>7</td>\n",
       "      <td>4</td>\n",
       "      <td>February</td>\n",
       "      <td>Sunday</td>\n",
       "      <td>83.9</td>\n",
       "      <td>8.7</td>\n",
       "      <td>32.1</td>\n",
       "      <td>2.1</td>\n",
       "      <td>8.8</td>\n",
       "      <td>68</td>\n",
       "      <td>2.2</td>\n",
       "      <td>0.0</td>\n",
       "      <td>13.05</td>\n",
       "    </tr>\n",
       "    <tr>\n",
       "      <th>...</th>\n",
       "      <td>...</td>\n",
       "      <td>...</td>\n",
       "      <td>...</td>\n",
       "      <td>...</td>\n",
       "      <td>...</td>\n",
       "      <td>...</td>\n",
       "      <td>...</td>\n",
       "      <td>...</td>\n",
       "      <td>...</td>\n",
       "      <td>...</td>\n",
       "      <td>...</td>\n",
       "      <td>...</td>\n",
       "      <td>...</td>\n",
       "    </tr>\n",
       "    <tr>\n",
       "      <th>274</th>\n",
       "      <td>8</td>\n",
       "      <td>6</td>\n",
       "      <td>December</td>\n",
       "      <td>Wednesday</td>\n",
       "      <td>84.0</td>\n",
       "      <td>27.8</td>\n",
       "      <td>354.6</td>\n",
       "      <td>5.3</td>\n",
       "      <td>5.1</td>\n",
       "      <td>61</td>\n",
       "      <td>8.0</td>\n",
       "      <td>0.0</td>\n",
       "      <td>11.19</td>\n",
       "    </tr>\n",
       "    <tr>\n",
       "      <th>281</th>\n",
       "      <td>6</td>\n",
       "      <td>5</td>\n",
       "      <td>December</td>\n",
       "      <td>Tuesday</td>\n",
       "      <td>85.4</td>\n",
       "      <td>25.4</td>\n",
       "      <td>349.7</td>\n",
       "      <td>2.6</td>\n",
       "      <td>5.1</td>\n",
       "      <td>24</td>\n",
       "      <td>8.5</td>\n",
       "      <td>0.0</td>\n",
       "      <td>24.77</td>\n",
       "    </tr>\n",
       "    <tr>\n",
       "      <th>273</th>\n",
       "      <td>4</td>\n",
       "      <td>6</td>\n",
       "      <td>December</td>\n",
       "      <td>Sunday</td>\n",
       "      <td>84.4</td>\n",
       "      <td>27.2</td>\n",
       "      <td>353.5</td>\n",
       "      <td>6.8</td>\n",
       "      <td>4.8</td>\n",
       "      <td>57</td>\n",
       "      <td>8.5</td>\n",
       "      <td>0.0</td>\n",
       "      <td>8.98</td>\n",
       "    </tr>\n",
       "    <tr>\n",
       "      <th>279</th>\n",
       "      <td>4</td>\n",
       "      <td>4</td>\n",
       "      <td>December</td>\n",
       "      <td>Monday</td>\n",
       "      <td>85.4</td>\n",
       "      <td>25.4</td>\n",
       "      <td>349.7</td>\n",
       "      <td>2.6</td>\n",
       "      <td>4.6</td>\n",
       "      <td>21</td>\n",
       "      <td>8.5</td>\n",
       "      <td>0.0</td>\n",
       "      <td>9.77</td>\n",
       "    </tr>\n",
       "    <tr>\n",
       "      <th>278</th>\n",
       "      <td>4</td>\n",
       "      <td>4</td>\n",
       "      <td>December</td>\n",
       "      <td>Monday</td>\n",
       "      <td>85.4</td>\n",
       "      <td>25.4</td>\n",
       "      <td>349.7</td>\n",
       "      <td>2.6</td>\n",
       "      <td>4.6</td>\n",
       "      <td>21</td>\n",
       "      <td>8.5</td>\n",
       "      <td>0.0</td>\n",
       "      <td>22.03</td>\n",
       "    </tr>\n",
       "  </tbody>\n",
       "</table>\n",
       "<p>517 rows × 13 columns</p>\n",
       "</div>"
      ],
      "text/plain": [
       "     X  Y     month        day  FFMC   DMC     DC  ISI  temp   RH  wind  rain  \\\n",
       "104  2  4   January   Saturday  82.1   3.7    9.3  2.9   5.3   78   3.1   0.0   \n",
       "379  4  5   January     Sunday  18.7   1.1  171.4  0.0   5.2  100   0.9   0.0   \n",
       "96   3  4  February   Saturday  83.9   8.0   30.2  2.6  12.7   48   1.8   0.0   \n",
       "59   2  2  February     Friday  86.6  13.2   43.0  5.3  12.3   51   0.9   0.0   \n",
       "202  7  4  February     Sunday  83.9   8.7   32.1  2.1   8.8   68   2.2   0.0   \n",
       "..  .. ..       ...        ...   ...   ...    ...  ...   ...  ...   ...   ...   \n",
       "274  8  6  December  Wednesday  84.0  27.8  354.6  5.3   5.1   61   8.0   0.0   \n",
       "281  6  5  December    Tuesday  85.4  25.4  349.7  2.6   5.1   24   8.5   0.0   \n",
       "273  4  6  December     Sunday  84.4  27.2  353.5  6.8   4.8   57   8.5   0.0   \n",
       "279  4  4  December     Monday  85.4  25.4  349.7  2.6   4.6   21   8.5   0.0   \n",
       "278  4  4  December     Monday  85.4  25.4  349.7  2.6   4.6   21   8.5   0.0   \n",
       "\n",
       "      area  \n",
       "104   0.00  \n",
       "379   0.00  \n",
       "96    0.00  \n",
       "59    0.00  \n",
       "202  13.05  \n",
       "..     ...  \n",
       "274  11.19  \n",
       "281  24.77  \n",
       "273   8.98  \n",
       "279   9.77  \n",
       "278  22.03  \n",
       "\n",
       "[517 rows x 13 columns]"
      ]
     },
     "execution_count": 12,
     "metadata": {},
     "output_type": "execute_result"
    }
   ],
   "source": [
    "# rename months and days\n",
    "months_ordered = [\"January\", \"February\", \"March\", \"April\", \"May\", \"June\", \"July\", \"August\", \"September\", \"October\", \"November\", \"December\"]\n",
    "days_ordered = [\"Monday\", \"Tuesday\", \"Wednesday\", \"Thursday\", \"Friday\", \"Saturday\", \"Sunday\"]\n",
    "\n",
    "months_rename = fire_df.replace([\"jan\", \"feb\", \"mar\", \"apr\", \"may\", \"jun\", \"jul\", \"aug\", \"sep\", \"oct\", \"nov\", \"dec\"], months_ordered)\n",
    "rename_df = months_rename.replace([\"mon\", \"tue\", \"wed\", \"thu\", \"fri\", \"sat\", \"sun\"], days_ordered)\n",
    "\n",
    "rename_df['month'] = pd.Categorical(rename_df['month'], categories=months_ordered, ordered=True)\n",
    "\n",
    "sort_by_months = rename_df.sort_values(by=\"month\")\n",
    "sort_by_months"
   ]
  },
  {
   "cell_type": "code",
   "execution_count": 13,
   "id": "6a752de9",
   "metadata": {},
   "outputs": [
    {
     "data": {
      "text/plain": [
       "month\n",
       "January         0.00\n",
       "February      125.50\n",
       "March         235.26\n",
       "April          80.02\n",
       "May            38.48\n",
       "June           99.30\n",
       "July          459.83\n",
       "August       2297.99\n",
       "September    3086.13\n",
       "October        99.57\n",
       "November        0.00\n",
       "December      119.97\n",
       "Name: area, dtype: float64"
      ]
     },
     "execution_count": 13,
     "metadata": {},
     "output_type": "execute_result"
    }
   ],
   "source": [
    "# group by months\n",
    "month_group = rename_df.groupby(\"month\")\n",
    "\n",
    "# total area affected per month\n",
    "area_per_month = month_group[\"area\"].sum()\n",
    "area_per_month"
   ]
  },
  {
   "cell_type": "code",
   "execution_count": 14,
   "id": "80c3ac8e",
   "metadata": {
    "scrolled": false
   },
   "outputs": [
    {
     "data": {
      "image/png": "[encoded data removed]",
      "text/plain": [
       "<Figure size 640x480 with 1 Axes>"
      ]
     },
     "metadata": {},
     "output_type": "display_data"
    }
   ],
   "source": [
    "# graph area affected per month\n",
    "\n",
    "area_per_month.plot(kind=\"bar\")\n",
    "plt.xlabel(\"Month\")\n",
    "plt.ylabel(\"Total Area Affected (hectares)\")\n",
    "plt.title(\"Total Area Affected per Month\")\n",
    "plt.style.use('ggplot')\n",
    "plt.tight_layout()\n",
    "\n",
    "plt.savefig(\"Images/area_per_month.png\")\n",
    "plt.show()"
   ]
  },
  {
   "cell_type": "markdown",
   "id": "fb91de63",
   "metadata": {},
   "source": [
    "# Total Area Affected by Fire\n",
    "\n",
    "### Per Day of Week"
   ]
  },
  {
   "cell_type": "code",
   "execution_count": 15,
   "id": "50a4ddb7",
   "metadata": {},
   "outputs": [
    {
     "data": {
      "text/plain": [
       "day\n",
       "Monday        706.53\n",
       "Tuesday       807.79\n",
       "Wednesday     578.60\n",
       "Thursday      997.10\n",
       "Friday        447.24\n",
       "Saturday     2144.86\n",
       "Sunday        959.93\n",
       "Name: area, dtype: float64"
      ]
     },
     "execution_count": 15,
     "metadata": {},
     "output_type": "execute_result"
    }
   ],
   "source": [
    "rename_df['day'] = pd.Categorical(rename_df['day'], categories=days_ordered, ordered=True)\n",
    "sort_by_day = rename_df.sort_values(by=\"day\")\n",
    "\n",
    "# group by day\n",
    "day_group = rename_df.groupby(\"day\", observed=False)\n",
    "\n",
    "# total area affected per day\n",
    "area_per_day = day_group[\"area\"].sum()\n",
    "area_per_day"
   ]
  },
  {
   "cell_type": "code",
   "execution_count": 16,
   "id": "a5c84a19",
   "metadata": {},
   "outputs": [
    {
     "data": {
      "image/png": "[encoded data removed]",
      "text/plain": [
       "<Figure size 640x480 with 1 Axes>"
      ]
     },
     "metadata": {},
     "output_type": "display_data"
    }
   ],
   "source": [
    "# graph area affected per day\n",
    "\n",
    "area_per_day.plot(kind=\"bar\")\n",
    "plt.xlabel(\"Day of the Week\")\n",
    "plt.ylabel(\"Total Area Affected (hectares)\")\n",
    "plt.title(\"Total Area Affected per Day of the Week\")\n",
    "plt.style.use('ggplot')\n",
    "plt.tight_layout()\n",
    "\n",
    "plt.savefig(\"Images/area_per_day.png\")\n",
    "plt.show()"
   ]
  },
  {
   "cell_type": "markdown",
   "id": "07ec2cc0",
   "metadata": {},
   "source": [
    "# Drop 0.0 Area"
   ]
  },
  {
   "cell_type": "code",
   "execution_count": 17,
   "id": "393fe409",
   "metadata": {},
   "outputs": [
    {
     "name": "stdout",
     "output_type": "stream",
     "text": [
      "<class 'pandas.core.frame.DataFrame'>\n",
      "Index: 270 entries, 138 to 514\n",
      "Data columns (total 13 columns):\n",
      " #   Column  Non-Null Count  Dtype   \n",
      "---  ------  --------------  -----   \n",
      " 0   X       270 non-null    int64   \n",
      " 1   Y       270 non-null    int64   \n",
      " 2   month   270 non-null    category\n",
      " 3   day     270 non-null    category\n",
      " 4   FFMC    270 non-null    float64 \n",
      " 5   DMC     270 non-null    float64 \n",
      " 6   DC      270 non-null    float64 \n",
      " 7   ISI     270 non-null    float64 \n",
      " 8   temp    270 non-null    float64 \n",
      " 9   RH      270 non-null    int64   \n",
      " 10  wind    270 non-null    float64 \n",
      " 11  rain    270 non-null    float64 \n",
      " 12  area    270 non-null    float64 \n",
      "dtypes: category(2), float64(8), int64(3)\n",
      "memory usage: 26.6 KB\n"
     ]
    }
   ],
   "source": [
    "# drop 0.0 area rows\n",
    "non0_df= rename_df[rename_df[\"area\"] != 0]\n",
    "non0_df.info()"
   ]
  },
  {
   "cell_type": "code",
   "execution_count": 18,
   "id": "b1cfb5f4",
   "metadata": {},
   "outputs": [],
   "source": [
    "# rename months and days\n",
    "\n",
    "non0_months_rename = non0_df.replace([\"jan\", \"feb\", \"mar\", \"apr\", \"may\", \"jun\", \"jul\", \"aug\", \"sep\", \"oct\", \"nov\", \"dec\"], months_ordered)\n",
    "non0_rename_df = non0_months_rename.replace([\"mon\", \"tue\", \"wed\", \"thu\", \"fri\", \"sat\", \"sun\"], days_ordered)\n",
    "\n",
    "non0_rename_df['month'] = pd.Categorical(non0_rename_df['month'], categories=months_ordered, ordered=True)"
   ]
  },
  {
   "cell_type": "markdown",
   "id": "5375b798",
   "metadata": {},
   "source": [
    "# Days with Active Fire"
   ]
  },
  {
   "cell_type": "code",
   "execution_count": 19,
   "id": "b3e9358e",
   "metadata": {},
   "outputs": [
    {
     "data": {
      "text/plain": [
       "month\n",
       "January       0\n",
       "February     10\n",
       "March        19\n",
       "April         4\n",
       "May           1\n",
       "June          8\n",
       "July         18\n",
       "August       99\n",
       "September    97\n",
       "October       5\n",
       "November      0\n",
       "December      9\n",
       "Name: month, dtype: int64"
      ]
     },
     "execution_count": 19,
     "metadata": {},
     "output_type": "execute_result"
    }
   ],
   "source": [
    "non0_sort_by_months = non0_rename_df.sort_values(by=\"month\")\n",
    "\n",
    "# group by months\n",
    "non0_month_group = non0_rename_df.groupby(\"month\")\n",
    "\n",
    "# count fires per month\n",
    "non0_fires_per_month = non0_month_group[\"month\"].count()\n",
    "non0_fires_per_month"
   ]
  },
  {
   "cell_type": "code",
   "execution_count": 20,
   "id": "fc420af3",
   "metadata": {},
   "outputs": [
    {
     "data": {
      "image/png": "[encoded data removed]",
      "text/plain": [
       "<Figure size 640x480 with 1 Axes>"
      ]
     },
     "metadata": {},
     "output_type": "display_data"
    }
   ],
   "source": [
    "# graph fires per month\n",
    "non0_fires_per_month.plot(kind=\"bar\")\n",
    "plt.xlabel(\"Month\")\n",
    "plt.ylabel(\"Days With Active Fire\")\n",
    "plt.title(\"Days per Month With Active Fire\")\n",
    "plt.style.use('ggplot')\n",
    "plt.tight_layout()\n",
    "\n",
    "plt.savefig(\"Images/fire_per_month.png\")\n",
    "plt.show()"
   ]
  },
  {
   "cell_type": "code",
   "execution_count": 21,
   "id": "f3510d57",
   "metadata": {},
   "outputs": [
    {
     "data": {
      "text/plain": [
       "day\n",
       "Monday       39\n",
       "Tuesday      36\n",
       "Wednesday    32\n",
       "Thursday     31\n",
       "Friday       43\n",
       "Saturday     42\n",
       "Sunday       47\n",
       "Name: day, dtype: int64"
      ]
     },
     "execution_count": 21,
     "metadata": {},
     "output_type": "execute_result"
    }
   ],
   "source": [
    "non0_rename_df['day'] = pd.Categorical(non0_rename_df['day'], categories=days_ordered, ordered=True)\n",
    "non0_sort_by_day = non0_rename_df.sort_values(by=\"day\")\n",
    "\n",
    "# group by day\n",
    "non0_day_group = non0_rename_df.groupby(\"day\")\n",
    "\n",
    "# count fires per month\n",
    "non0_fires_per_day = non0_day_group[\"day\"].count()\n",
    "non0_fires_per_day"
   ]
  },
  {
   "cell_type": "code",
   "execution_count": 22,
   "id": "d92c0526",
   "metadata": {},
   "outputs": [
    {
     "data": {
      "image/png": "[encoded data removed]",
      "text/plain": [
       "<Figure size 640x480 with 1 Axes>"
      ]
     },
     "metadata": {},
     "output_type": "display_data"
    }
   ],
   "source": [
    "# graph fires per day of the week\n",
    "non0_fires_per_day.plot(kind=\"bar\")\n",
    "plt.xlabel(\"Day of the Week\")\n",
    "plt.ylabel(\"Days with Active Fire\")\n",
    "plt.title(\"Days of the Week with Active Fire\")\n",
    "plt.style.use('ggplot')\n",
    "plt.tight_layout()\n",
    "\n",
    "plt.savefig(\"Images/fire_per_day.png\")\n",
    "plt.show()"
   ]
  }
 ],
 "metadata": {
  "kernelspec": {
   "display_name": "Python 3 (ipykernel)",
   "language": "python",
   "name": "python3"
  },
  "language_info": {
   "codemirror_mode": {
    "name": "ipython",
    "version": 3
   },
   "file_extension": ".py",
   "mimetype": "text/x-python",
   "name": "python",
   "nbconvert_exporter": "python",
   "pygments_lexer": "ipython3",
   "version": "3.11.4"
  }
 },
 "nbformat": 4,
 "nbformat_minor": 5
}
