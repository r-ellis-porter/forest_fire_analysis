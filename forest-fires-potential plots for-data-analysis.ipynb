{
 "cells": [
  {
   "cell_type": "markdown",
   "metadata": {
    "id": "_R5NbO8jq-5S",
    "papermill": {
     "duration": 0.043253,
     "end_time": "2020-09-24T12:36:56.822097",
     "exception": false,
     "start_time": "2020-09-24T12:36:56.778844",
     "status": "completed"
    },
    "tags": []
   },
   "source": [
    "# Forest Fires - Data Analysis\n",
    "\n",
    "---\n",
    "\n",
    "### Introduction. \n",
    "<p>Fires happen when ignition (from a lightning strike or a careless bonfire, for example) meets available fuel (such as dry vegetation), and warm, dry air fans the flames.\n",
    "</p>\n",
    "\n",
    "<p>That’s why the fire season tends to coincide with high temperatures and dry conditions. In the eastern U.S., fire season lasts from March through May, while the West sees most of its fire activity from June through October. </p>\n",
    "\n",
    "\n",
    "Fires are an important and necessary part of the lifecycle for many different kinds of ecosystems. For as long as forests and grasslands have grown on earth, fires have burned them. In fact, some tree species, like lodgepole pines and aspens, need fire to stimulate their growth.\n",
    "\n",
    "Fires have also been used by people as a way to manage lands, whether to clear land for farming, get rid of unwanted pests, or to restore nutrients to the soil.\n",
    "\n",
    "\n",
    "--- \n",
    "\n",
    "Here are some more information about forst fires.\n",
    "\n",
    "- [The Facts About Fire](https://mylandplan.org/content/facts-about-fire)\n",
    "- [KNIME Applications Forest Fire](https://www.knime.com/knime-applications/forest-fire-prediction)\n",
    "\n",
    "---\n",
    "\n",
    "![Forest Fires](https://fee.org/media/38322/forest-fire-3782544_1280.jpg?anchor=center&mode=crop&height=656&widthratio=2.1341463414634146341463414634&rnd=132451547710000000)\n",
    "\n",
    "---\n",
    "\n",
    "\n",
    "# Agenda for this Notebook\n",
    "\n",
    "- In this notebook, We are doing some analysis for the Forest Fire (Montesinho park fire) using below steps.\n",
    "\n",
    "1.   Load Dataset\n",
    "2.   Data Preparation & cleaning\n",
    "3.   Exploratory Analysis & Visualization\n",
    "4.   Intresting questions and answer about the data\n",
    "5.   Summarize & Conclusion\n",
    "\n",
    "\n",
    "\n"
   ]
  },
  {
   "cell_type": "markdown",
   "metadata": {
    "papermill": {
     "duration": 0.041261,
     "end_time": "2020-09-24T12:36:56.904249",
     "exception": false,
     "start_time": "2020-09-24T12:36:56.862988",
     "status": "completed"
    },
    "tags": []
   },
   "source": [
    "- Let's install and upgrade some neccessary packages."
   ]
  },
  {
   "cell_type": "code",
   "execution_count": 1,
   "metadata": {
    "execution": {
     "iopub.execute_input": "2020-09-24T12:36:56.990140Z",
     "iopub.status.busy": "2020-09-24T12:36:56.989323Z",
     "iopub.status.idle": "2020-09-24T12:36:56.992844Z",
     "shell.execute_reply": "2020-09-24T12:36:56.992077Z"
    },
    "id": "wCnvNdTiq-5X",
    "outputId": "6518377a-c6c0-432a-bc8b-98ad1b4c3643",
    "papermill": {
     "duration": 0.048529,
     "end_time": "2020-09-24T12:36:56.992985",
     "exception": false,
     "start_time": "2020-09-24T12:36:56.944456",
     "status": "completed"
    },
    "tags": []
   },
   "outputs": [],
   "source": [
    "# Install Necessary Packages, (First Time Only)\n",
    "\n",
    "# !pip install numpy --upgrade\n",
    "# !pip install pandas --upgrade\n",
    "# !pip install matplotlib --upgrade\n",
    "# !pip install seaborn --upgrade\n",
    "\n"
   ]
  },
  {
   "cell_type": "code",
   "execution_count": 2,
   "metadata": {
    "execution": {
     "iopub.execute_input": "2020-09-24T12:36:57.082963Z",
     "iopub.status.busy": "2020-09-24T12:36:57.082184Z",
     "iopub.status.idle": "2020-09-24T12:36:58.287931Z",
     "shell.execute_reply": "2020-09-24T12:36:58.287260Z"
    },
    "id": "2U8U3xmV9lUg",
    "papermill": {
     "duration": 1.253936,
     "end_time": "2020-09-24T12:36:58.288093",
     "exception": false,
     "start_time": "2020-09-24T12:36:57.034157",
     "status": "completed"
    },
    "tags": []
   },
   "outputs": [],
   "source": [
    "import os\n",
    "\n",
    "import pandas as pd\n",
    "import numpy as np\n",
    "import matplotlib.pyplot as plt\n",
    "import seaborn as sns\n",
    "\n",
    "\n",
    "%matplotlib inline\n",
    "sns.set_style('darkgrid')"
   ]
  },
  {
   "cell_type": "markdown",
   "metadata": {
    "id": "lHXk87hP9d-I",
    "papermill": {
     "duration": 0.040681,
     "end_time": "2020-09-24T12:36:58.369373",
     "exception": false,
     "start_time": "2020-09-24T12:36:58.328692",
     "status": "completed"
    },
    "tags": []
   },
   "source": [
    "# Load Dataset\n"
   ]
  },
  {
   "cell_type": "markdown",
   "metadata": {
    "id": "4bijGeHA97um",
    "papermill": {
     "duration": 0.040199,
     "end_time": "2020-09-24T12:36:58.450103",
     "exception": false,
     "start_time": "2020-09-24T12:36:58.409904",
     "status": "completed"
    },
    "tags": []
   },
   "source": [
    "Firstly, We need to check the file for dataset using `os` package and print the filesname on the current directory"
   ]
  },
  {
   "cell_type": "code",
   "execution_count": 3,
   "metadata": {
    "execution": {
     "iopub.execute_input": "2020-09-24T12:36:58.537836Z",
     "iopub.status.busy": "2020-09-24T12:36:58.537085Z",
     "iopub.status.idle": "2020-09-24T12:36:58.545151Z",
     "shell.execute_reply": "2020-09-24T12:36:58.544332Z"
    },
    "id": "bbuuT9IS9ycX",
    "outputId": "9c83321f-ea03-4ef4-90b0-ac32ff44b8ca",
    "papermill": {
     "duration": 0.054449,
     "end_time": "2020-09-24T12:36:58.545292",
     "exception": false,
     "start_time": "2020-09-24T12:36:58.490843",
     "status": "completed"
    },
    "tags": []
   },
   "outputs": [
    {
     "data": {
      "text/plain": [
       "['forestfires.csv']"
      ]
     },
     "execution_count": 3,
     "metadata": {},
     "output_type": "execute_result"
    }
   ],
   "source": [
    "os.listdir('../input/forest-firearea-datasets')"
   ]
  },
  {
   "cell_type": "code",
   "execution_count": 4,
   "metadata": {
    "execution": {
     "iopub.execute_input": "2020-09-24T12:36:58.638439Z",
     "iopub.status.busy": "2020-09-24T12:36:58.637545Z",
     "iopub.status.idle": "2020-09-24T12:36:58.654212Z",
     "shell.execute_reply": "2020-09-24T12:36:58.653463Z"
    },
    "id": "wNcoKcsP9g92",
    "outputId": "e903a735-8454-4795-ac62-9beb4d815ded",
    "papermill": {
     "duration": 0.06672,
     "end_time": "2020-09-24T12:36:58.654360",
     "exception": false,
     "start_time": "2020-09-24T12:36:58.587640",
     "status": "completed"
    },
    "tags": []
   },
   "outputs": [],
   "source": [
    "# Reading csv file\n",
    "\n",
    "forest_df = pd.read_csv('../input/forest-firearea-datasets/forestfires.csv', delimiter=',',  )\n"
   ]
  },
  {
   "cell_type": "markdown",
   "metadata": {
    "id": "bpzRza7F-VBQ",
    "papermill": {
     "duration": 0.04167,
     "end_time": "2020-09-24T12:36:58.738377",
     "exception": false,
     "start_time": "2020-09-24T12:36:58.696707",
     "status": "completed"
    },
    "tags": []
   },
   "source": [
    "## Attribute Informations\n",
    "\n",
    "\n",
    "  1. `X` - x-axis spatial coordinate within the Montesinho park map: 1 to 9\n",
    "  2. `Y` - y-axis spatial coordinate within the Montesinho park map: 2 to 9\n",
    "  3. `month` - month of the year: \"jan\" to \"dec\" \n",
    "  4. `day` - day of the week: \"mon\" to \"sun\"\n",
    "  5. `FFMC` - FFMC index from the FWI system: 18.7 to 96.20\n",
    "  6. `DMC` - DMC index from the FWI system: 1.1 to 291.3 \n",
    "  7. `DC` - DC index from the FWI system: 7.9 to 860.6 \n",
    "  8. `ISI` - ISI index from the FWI system: 0.0 to 56.10\n",
    "  9. `temp` - temperature in Celsius degrees: 2.2 to 33.30\n",
    "  10. `RH` - relative humidity in %: 15.0 to 100\n",
    "  11. `wind` - wind speed in km/h: 0.40 to 9.40 \n",
    "  12. `rain` - outside rain in mm/m2 : 0.0 to 6.4 \n",
    "  13. `area` - the burned area of the forest (in ha): 0.00 to 1090.84 (this output variable is very skewed towards 0.0, thus it may make sense to model with the logarithm transform). \n",
    "\n"
   ]
  },
  {
   "cell_type": "code",
   "execution_count": 5,
   "metadata": {
    "execution": {
     "iopub.execute_input": "2020-09-24T12:36:58.842104Z",
     "iopub.status.busy": "2020-09-24T12:36:58.839396Z",
     "iopub.status.idle": "2020-09-24T12:36:58.864508Z",
     "shell.execute_reply": "2020-09-24T12:36:58.863861Z"
    },
    "id": "6I6ZWyMw9hGW",
    "outputId": "8d913d48-9492-4c5e-87b6-78f75206c637",
    "papermill": {
     "duration": 0.084728,
     "end_time": "2020-09-24T12:36:58.864648",
     "exception": false,
     "start_time": "2020-09-24T12:36:58.779920",
     "status": "completed"
    },
    "tags": []
   },
   "outputs": [
    {
     "data": {
      "text/html": [
       "<div>\n",
       "<style scoped>\n",
       "    .dataframe tbody tr th:only-of-type {\n",
       "        vertical-align: middle;\n",
       "    }\n",
       "\n",
       "    .dataframe tbody tr th {\n",
       "        vertical-align: top;\n",
       "    }\n",
       "\n",
       "    .dataframe thead th {\n",
       "        text-align: right;\n",
       "    }\n",
       "</style>\n",
       "<table border=\"1\" class=\"dataframe\">\n",
       "  <thead>\n",
       "    <tr style=\"text-align: right;\">\n",
       "      <th></th>\n",
       "      <th>X</th>\n",
       "      <th>Y</th>\n",
       "      <th>month</th>\n",
       "      <th>day</th>\n",
       "      <th>FFMC</th>\n",
       "      <th>DMC</th>\n",
       "      <th>DC</th>\n",
       "      <th>ISI</th>\n",
       "      <th>temp</th>\n",
       "      <th>RH</th>\n",
       "      <th>wind</th>\n",
       "      <th>rain</th>\n",
       "      <th>area</th>\n",
       "    </tr>\n",
       "  </thead>\n",
       "  <tbody>\n",
       "    <tr>\n",
       "      <th>0</th>\n",
       "      <td>7</td>\n",
       "      <td>5</td>\n",
       "      <td>mar</td>\n",
       "      <td>fri</td>\n",
       "      <td>86.2</td>\n",
       "      <td>26.2</td>\n",
       "      <td>94.3</td>\n",
       "      <td>5.1</td>\n",
       "      <td>8.2</td>\n",
       "      <td>51</td>\n",
       "      <td>6.7</td>\n",
       "      <td>0.0</td>\n",
       "      <td>0.0</td>\n",
       "    </tr>\n",
       "    <tr>\n",
       "      <th>1</th>\n",
       "      <td>7</td>\n",
       "      <td>4</td>\n",
       "      <td>oct</td>\n",
       "      <td>tue</td>\n",
       "      <td>90.6</td>\n",
       "      <td>35.4</td>\n",
       "      <td>669.1</td>\n",
       "      <td>6.7</td>\n",
       "      <td>18.0</td>\n",
       "      <td>33</td>\n",
       "      <td>0.9</td>\n",
       "      <td>0.0</td>\n",
       "      <td>0.0</td>\n",
       "    </tr>\n",
       "    <tr>\n",
       "      <th>2</th>\n",
       "      <td>7</td>\n",
       "      <td>4</td>\n",
       "      <td>oct</td>\n",
       "      <td>sat</td>\n",
       "      <td>90.6</td>\n",
       "      <td>43.7</td>\n",
       "      <td>686.9</td>\n",
       "      <td>6.7</td>\n",
       "      <td>14.6</td>\n",
       "      <td>33</td>\n",
       "      <td>1.3</td>\n",
       "      <td>0.0</td>\n",
       "      <td>0.0</td>\n",
       "    </tr>\n",
       "    <tr>\n",
       "      <th>3</th>\n",
       "      <td>8</td>\n",
       "      <td>6</td>\n",
       "      <td>mar</td>\n",
       "      <td>fri</td>\n",
       "      <td>91.7</td>\n",
       "      <td>33.3</td>\n",
       "      <td>77.5</td>\n",
       "      <td>9.0</td>\n",
       "      <td>8.3</td>\n",
       "      <td>97</td>\n",
       "      <td>4.0</td>\n",
       "      <td>0.2</td>\n",
       "      <td>0.0</td>\n",
       "    </tr>\n",
       "    <tr>\n",
       "      <th>4</th>\n",
       "      <td>8</td>\n",
       "      <td>6</td>\n",
       "      <td>mar</td>\n",
       "      <td>sun</td>\n",
       "      <td>89.3</td>\n",
       "      <td>51.3</td>\n",
       "      <td>102.2</td>\n",
       "      <td>9.6</td>\n",
       "      <td>11.4</td>\n",
       "      <td>99</td>\n",
       "      <td>1.8</td>\n",
       "      <td>0.0</td>\n",
       "      <td>0.0</td>\n",
       "    </tr>\n",
       "    <tr>\n",
       "      <th>5</th>\n",
       "      <td>8</td>\n",
       "      <td>6</td>\n",
       "      <td>aug</td>\n",
       "      <td>sun</td>\n",
       "      <td>92.3</td>\n",
       "      <td>85.3</td>\n",
       "      <td>488.0</td>\n",
       "      <td>14.7</td>\n",
       "      <td>22.2</td>\n",
       "      <td>29</td>\n",
       "      <td>5.4</td>\n",
       "      <td>0.0</td>\n",
       "      <td>0.0</td>\n",
       "    </tr>\n",
       "    <tr>\n",
       "      <th>6</th>\n",
       "      <td>8</td>\n",
       "      <td>6</td>\n",
       "      <td>aug</td>\n",
       "      <td>mon</td>\n",
       "      <td>92.3</td>\n",
       "      <td>88.9</td>\n",
       "      <td>495.6</td>\n",
       "      <td>8.5</td>\n",
       "      <td>24.1</td>\n",
       "      <td>27</td>\n",
       "      <td>3.1</td>\n",
       "      <td>0.0</td>\n",
       "      <td>0.0</td>\n",
       "    </tr>\n",
       "    <tr>\n",
       "      <th>7</th>\n",
       "      <td>8</td>\n",
       "      <td>6</td>\n",
       "      <td>aug</td>\n",
       "      <td>mon</td>\n",
       "      <td>91.5</td>\n",
       "      <td>145.4</td>\n",
       "      <td>608.2</td>\n",
       "      <td>10.7</td>\n",
       "      <td>8.0</td>\n",
       "      <td>86</td>\n",
       "      <td>2.2</td>\n",
       "      <td>0.0</td>\n",
       "      <td>0.0</td>\n",
       "    </tr>\n",
       "    <tr>\n",
       "      <th>8</th>\n",
       "      <td>8</td>\n",
       "      <td>6</td>\n",
       "      <td>sep</td>\n",
       "      <td>tue</td>\n",
       "      <td>91.0</td>\n",
       "      <td>129.5</td>\n",
       "      <td>692.6</td>\n",
       "      <td>7.0</td>\n",
       "      <td>13.1</td>\n",
       "      <td>63</td>\n",
       "      <td>5.4</td>\n",
       "      <td>0.0</td>\n",
       "      <td>0.0</td>\n",
       "    </tr>\n",
       "    <tr>\n",
       "      <th>9</th>\n",
       "      <td>7</td>\n",
       "      <td>5</td>\n",
       "      <td>sep</td>\n",
       "      <td>sat</td>\n",
       "      <td>92.5</td>\n",
       "      <td>88.0</td>\n",
       "      <td>698.6</td>\n",
       "      <td>7.1</td>\n",
       "      <td>22.8</td>\n",
       "      <td>40</td>\n",
       "      <td>4.0</td>\n",
       "      <td>0.0</td>\n",
       "      <td>0.0</td>\n",
       "    </tr>\n",
       "    <tr>\n",
       "      <th>10</th>\n",
       "      <td>7</td>\n",
       "      <td>5</td>\n",
       "      <td>sep</td>\n",
       "      <td>sat</td>\n",
       "      <td>92.5</td>\n",
       "      <td>88.0</td>\n",
       "      <td>698.6</td>\n",
       "      <td>7.1</td>\n",
       "      <td>17.8</td>\n",
       "      <td>51</td>\n",
       "      <td>7.2</td>\n",
       "      <td>0.0</td>\n",
       "      <td>0.0</td>\n",
       "    </tr>\n",
       "    <tr>\n",
       "      <th>11</th>\n",
       "      <td>7</td>\n",
       "      <td>5</td>\n",
       "      <td>sep</td>\n",
       "      <td>sat</td>\n",
       "      <td>92.8</td>\n",
       "      <td>73.2</td>\n",
       "      <td>713.0</td>\n",
       "      <td>22.6</td>\n",
       "      <td>19.3</td>\n",
       "      <td>38</td>\n",
       "      <td>4.0</td>\n",
       "      <td>0.0</td>\n",
       "      <td>0.0</td>\n",
       "    </tr>\n",
       "    <tr>\n",
       "      <th>12</th>\n",
       "      <td>6</td>\n",
       "      <td>5</td>\n",
       "      <td>aug</td>\n",
       "      <td>fri</td>\n",
       "      <td>63.5</td>\n",
       "      <td>70.8</td>\n",
       "      <td>665.3</td>\n",
       "      <td>0.8</td>\n",
       "      <td>17.0</td>\n",
       "      <td>72</td>\n",
       "      <td>6.7</td>\n",
       "      <td>0.0</td>\n",
       "      <td>0.0</td>\n",
       "    </tr>\n",
       "    <tr>\n",
       "      <th>13</th>\n",
       "      <td>6</td>\n",
       "      <td>5</td>\n",
       "      <td>sep</td>\n",
       "      <td>mon</td>\n",
       "      <td>90.9</td>\n",
       "      <td>126.5</td>\n",
       "      <td>686.5</td>\n",
       "      <td>7.0</td>\n",
       "      <td>21.3</td>\n",
       "      <td>42</td>\n",
       "      <td>2.2</td>\n",
       "      <td>0.0</td>\n",
       "      <td>0.0</td>\n",
       "    </tr>\n",
       "    <tr>\n",
       "      <th>14</th>\n",
       "      <td>6</td>\n",
       "      <td>5</td>\n",
       "      <td>sep</td>\n",
       "      <td>wed</td>\n",
       "      <td>92.9</td>\n",
       "      <td>133.3</td>\n",
       "      <td>699.6</td>\n",
       "      <td>9.2</td>\n",
       "      <td>26.4</td>\n",
       "      <td>21</td>\n",
       "      <td>4.5</td>\n",
       "      <td>0.0</td>\n",
       "      <td>0.0</td>\n",
       "    </tr>\n",
       "    <tr>\n",
       "      <th>15</th>\n",
       "      <td>6</td>\n",
       "      <td>5</td>\n",
       "      <td>sep</td>\n",
       "      <td>fri</td>\n",
       "      <td>93.3</td>\n",
       "      <td>141.2</td>\n",
       "      <td>713.9</td>\n",
       "      <td>13.9</td>\n",
       "      <td>22.9</td>\n",
       "      <td>44</td>\n",
       "      <td>5.4</td>\n",
       "      <td>0.0</td>\n",
       "      <td>0.0</td>\n",
       "    </tr>\n",
       "    <tr>\n",
       "      <th>16</th>\n",
       "      <td>5</td>\n",
       "      <td>5</td>\n",
       "      <td>mar</td>\n",
       "      <td>sat</td>\n",
       "      <td>91.7</td>\n",
       "      <td>35.8</td>\n",
       "      <td>80.8</td>\n",
       "      <td>7.8</td>\n",
       "      <td>15.1</td>\n",
       "      <td>27</td>\n",
       "      <td>5.4</td>\n",
       "      <td>0.0</td>\n",
       "      <td>0.0</td>\n",
       "    </tr>\n",
       "    <tr>\n",
       "      <th>17</th>\n",
       "      <td>8</td>\n",
       "      <td>5</td>\n",
       "      <td>oct</td>\n",
       "      <td>mon</td>\n",
       "      <td>84.9</td>\n",
       "      <td>32.8</td>\n",
       "      <td>664.2</td>\n",
       "      <td>3.0</td>\n",
       "      <td>16.7</td>\n",
       "      <td>47</td>\n",
       "      <td>4.9</td>\n",
       "      <td>0.0</td>\n",
       "      <td>0.0</td>\n",
       "    </tr>\n",
       "    <tr>\n",
       "      <th>18</th>\n",
       "      <td>6</td>\n",
       "      <td>4</td>\n",
       "      <td>mar</td>\n",
       "      <td>wed</td>\n",
       "      <td>89.2</td>\n",
       "      <td>27.9</td>\n",
       "      <td>70.8</td>\n",
       "      <td>6.3</td>\n",
       "      <td>15.9</td>\n",
       "      <td>35</td>\n",
       "      <td>4.0</td>\n",
       "      <td>0.0</td>\n",
       "      <td>0.0</td>\n",
       "    </tr>\n",
       "    <tr>\n",
       "      <th>19</th>\n",
       "      <td>6</td>\n",
       "      <td>4</td>\n",
       "      <td>apr</td>\n",
       "      <td>sat</td>\n",
       "      <td>86.3</td>\n",
       "      <td>27.4</td>\n",
       "      <td>97.1</td>\n",
       "      <td>5.1</td>\n",
       "      <td>9.3</td>\n",
       "      <td>44</td>\n",
       "      <td>4.5</td>\n",
       "      <td>0.0</td>\n",
       "      <td>0.0</td>\n",
       "    </tr>\n",
       "  </tbody>\n",
       "</table>\n",
       "</div>"
      ],
      "text/plain": [
       "    X  Y month  day  FFMC    DMC     DC   ISI  temp  RH  wind  rain  area\n",
       "0   7  5   mar  fri  86.2   26.2   94.3   5.1   8.2  51   6.7   0.0   0.0\n",
       "1   7  4   oct  tue  90.6   35.4  669.1   6.7  18.0  33   0.9   0.0   0.0\n",
       "2   7  4   oct  sat  90.6   43.7  686.9   6.7  14.6  33   1.3   0.0   0.0\n",
       "3   8  6   mar  fri  91.7   33.3   77.5   9.0   8.3  97   4.0   0.2   0.0\n",
       "4   8  6   mar  sun  89.3   51.3  102.2   9.6  11.4  99   1.8   0.0   0.0\n",
       "5   8  6   aug  sun  92.3   85.3  488.0  14.7  22.2  29   5.4   0.0   0.0\n",
       "6   8  6   aug  mon  92.3   88.9  495.6   8.5  24.1  27   3.1   0.0   0.0\n",
       "7   8  6   aug  mon  91.5  145.4  608.2  10.7   8.0  86   2.2   0.0   0.0\n",
       "8   8  6   sep  tue  91.0  129.5  692.6   7.0  13.1  63   5.4   0.0   0.0\n",
       "9   7  5   sep  sat  92.5   88.0  698.6   7.1  22.8  40   4.0   0.0   0.0\n",
       "10  7  5   sep  sat  92.5   88.0  698.6   7.1  17.8  51   7.2   0.0   0.0\n",
       "11  7  5   sep  sat  92.8   73.2  713.0  22.6  19.3  38   4.0   0.0   0.0\n",
       "12  6  5   aug  fri  63.5   70.8  665.3   0.8  17.0  72   6.7   0.0   0.0\n",
       "13  6  5   sep  mon  90.9  126.5  686.5   7.0  21.3  42   2.2   0.0   0.0\n",
       "14  6  5   sep  wed  92.9  133.3  699.6   9.2  26.4  21   4.5   0.0   0.0\n",
       "15  6  5   sep  fri  93.3  141.2  713.9  13.9  22.9  44   5.4   0.0   0.0\n",
       "16  5  5   mar  sat  91.7   35.8   80.8   7.8  15.1  27   5.4   0.0   0.0\n",
       "17  8  5   oct  mon  84.9   32.8  664.2   3.0  16.7  47   4.9   0.0   0.0\n",
       "18  6  4   mar  wed  89.2   27.9   70.8   6.3  15.9  35   4.0   0.0   0.0\n",
       "19  6  4   apr  sat  86.3   27.4   97.1   5.1   9.3  44   4.5   0.0   0.0"
      ]
     },
     "execution_count": 5,
     "metadata": {},
     "output_type": "execute_result"
    }
   ],
   "source": [
    "#  Display the first few rows\n",
    "\n",
    "forest_df.head(20)"
   ]
  },
  {
   "cell_type": "markdown",
   "metadata": {
    "papermill": {
     "duration": 0.04388,
     "end_time": "2020-09-24T12:36:58.952558",
     "exception": false,
     "start_time": "2020-09-24T12:36:58.908678",
     "status": "completed"
    },
    "tags": []
   },
   "source": [
    "- To know how many rows and columns, we use `shape` attribute"
   ]
  },
  {
   "cell_type": "code",
   "execution_count": 6,
   "metadata": {
    "execution": {
     "iopub.execute_input": "2020-09-24T12:36:59.054827Z",
     "iopub.status.busy": "2020-09-24T12:36:59.053661Z",
     "iopub.status.idle": "2020-09-24T12:36:59.058814Z",
     "shell.execute_reply": "2020-09-24T12:36:59.058155Z"
    },
    "id": "pkLHchou9hDl",
    "papermill": {
     "duration": 0.058902,
     "end_time": "2020-09-24T12:36:59.058967",
     "exception": false,
     "start_time": "2020-09-24T12:36:59.000065",
     "status": "completed"
    },
    "tags": []
   },
   "outputs": [
    {
     "data": {
      "text/plain": [
       "(517, 13)"
      ]
     },
     "execution_count": 6,
     "metadata": {},
     "output_type": "execute_result"
    }
   ],
   "source": [
    "forest_df.shape"
   ]
  },
  {
   "cell_type": "markdown",
   "metadata": {
    "papermill": {
     "duration": 0.042655,
     "end_time": "2020-09-24T12:36:59.145236",
     "exception": false,
     "start_time": "2020-09-24T12:36:59.102581",
     "status": "completed"
    },
    "tags": []
   },
   "source": [
    "- After we successfully loading the dataset here, We extract the feature name from the dataset using `columns` attrubute"
   ]
  },
  {
   "cell_type": "code",
   "execution_count": 7,
   "metadata": {
    "execution": {
     "iopub.execute_input": "2020-09-24T12:36:59.245692Z",
     "iopub.status.busy": "2020-09-24T12:36:59.244508Z",
     "iopub.status.idle": "2020-09-24T12:36:59.249915Z",
     "shell.execute_reply": "2020-09-24T12:36:59.249170Z"
    },
    "id": "W0Ez3ZTt9gU5",
    "papermill": {
     "duration": 0.058136,
     "end_time": "2020-09-24T12:36:59.250064",
     "exception": false,
     "start_time": "2020-09-24T12:36:59.191928",
     "status": "completed"
    },
    "tags": []
   },
   "outputs": [
    {
     "data": {
      "text/plain": [
       "Index(['X', 'Y', 'month', 'day', 'FFMC', 'DMC', 'DC', 'ISI', 'temp', 'RH',\n",
       "       'wind', 'rain', 'area'],\n",
       "      dtype='object')"
      ]
     },
     "execution_count": 7,
     "metadata": {},
     "output_type": "execute_result"
    }
   ],
   "source": [
    "feature_names = forest_df.columns\n",
    "\n",
    "feature_names"
   ]
  },
  {
   "cell_type": "markdown",
   "metadata": {
    "id": "3snsrY2P9gZ0",
    "papermill": {
     "duration": 0.043207,
     "end_time": "2020-09-24T12:36:59.337119",
     "exception": false,
     "start_time": "2020-09-24T12:36:59.293912",
     "status": "completed"
    },
    "tags": []
   },
   "source": [
    "Here,  we can see the data type of `feature_names` variable. It's shows the `object` type of list\n"
   ]
  },
  {
   "cell_type": "markdown",
   "metadata": {
    "id": "1AvZJJOLq-5i",
    "papermill": {
     "duration": 0.043175,
     "end_time": "2020-09-24T12:36:59.423746",
     "exception": false,
     "start_time": "2020-09-24T12:36:59.380571",
     "status": "completed"
    },
    "tags": []
   },
   "source": [
    "## Data Preparation and Cleaning\n",
    "\n",
    "In this section, We'll prepare the data and filter data."
   ]
  },
  {
   "cell_type": "markdown",
   "metadata": {
    "id": "wQpz8ivoq-5j",
    "papermill": {
     "duration": 0.043352,
     "end_time": "2020-09-24T12:36:59.510425",
     "exception": false,
     "start_time": "2020-09-24T12:36:59.467073",
     "status": "completed"
    },
    "tags": []
   },
   "source": [
    "- Let's check the data information, to know how many missing values available in the dataset"
   ]
  },
  {
   "cell_type": "code",
   "execution_count": 8,
   "metadata": {
    "execution": {
     "iopub.execute_input": "2020-09-24T12:36:59.618962Z",
     "iopub.status.busy": "2020-09-24T12:36:59.618028Z",
     "iopub.status.idle": "2020-09-24T12:36:59.621908Z",
     "shell.execute_reply": "2020-09-24T12:36:59.622510Z"
    },
    "id": "eb5_jL5Iq-5m",
    "papermill": {
     "duration": 0.068161,
     "end_time": "2020-09-24T12:36:59.622676",
     "exception": false,
     "start_time": "2020-09-24T12:36:59.554515",
     "status": "completed"
    },
    "tags": []
   },
   "outputs": [
    {
     "name": "stdout",
     "output_type": "stream",
     "text": [
      "<class 'pandas.core.frame.DataFrame'>\n",
      "RangeIndex: 517 entries, 0 to 516\n",
      "Data columns (total 13 columns):\n",
      " #   Column  Non-Null Count  Dtype  \n",
      "---  ------  --------------  -----  \n",
      " 0   X       517 non-null    int64  \n",
      " 1   Y       517 non-null    int64  \n",
      " 2   month   517 non-null    object \n",
      " 3   day     517 non-null    object \n",
      " 4   FFMC    517 non-null    float64\n",
      " 5   DMC     517 non-null    float64\n",
      " 6   DC      517 non-null    float64\n",
      " 7   ISI     517 non-null    float64\n",
      " 8   temp    517 non-null    float64\n",
      " 9   RH      517 non-null    int64  \n",
      " 10  wind    517 non-null    float64\n",
      " 11  rain    517 non-null    float64\n",
      " 12  area    517 non-null    float64\n",
      "dtypes: float64(8), int64(3), object(2)\n",
      "memory usage: 52.6+ KB\n"
     ]
    }
   ],
   "source": [
    "forest_df.info()"
   ]
  },
  {
   "cell_type": "markdown",
   "metadata": {
    "id": "D5dDOFBTq-5o",
    "papermill": {
     "duration": 0.044597,
     "end_time": "2020-09-24T12:36:59.712780",
     "exception": false,
     "start_time": "2020-09-24T12:36:59.668183",
     "status": "completed"
    },
    "tags": []
   },
   "source": [
    "\n",
    "- As we can see, There are `13` total columns and `517` rows are there, Also there are 3 type of datatypes available `int64`, `float64` and `object`. Insort, 8 feature are `float64`, 3 feature are `int64` and 2 feature are `object` type of data\n",
    "\n",
    "\n",
    "- The second column is represents the number of not-null type of data. It means there are no any missing values in the dataset."
   ]
  },
  {
   "cell_type": "markdown",
   "metadata": {
    "id": "Z-Vymej4q-5r",
    "papermill": {
     "duration": 0.044146,
     "end_time": "2020-09-24T12:36:59.801234",
     "exception": false,
     "start_time": "2020-09-24T12:36:59.757088",
     "status": "completed"
    },
    "tags": []
   },
   "source": [
    "### Saperate the numerical and categorical feature names.\n",
    "\n",
    "- For that we have describe method using parameter"
   ]
  },
  {
   "cell_type": "code",
   "execution_count": 9,
   "metadata": {
    "execution": {
     "iopub.execute_input": "2020-09-24T12:36:59.901746Z",
     "iopub.status.busy": "2020-09-24T12:36:59.900967Z",
     "iopub.status.idle": "2020-09-24T12:36:59.940292Z",
     "shell.execute_reply": "2020-09-24T12:36:59.939457Z"
    },
    "id": "r8UDG559q-5u",
    "papermill": {
     "duration": 0.095102,
     "end_time": "2020-09-24T12:36:59.940425",
     "exception": false,
     "start_time": "2020-09-24T12:36:59.845323",
     "status": "completed"
    },
    "tags": []
   },
   "outputs": [
    {
     "data": {
      "text/html": [
       "<div>\n",
       "<style scoped>\n",
       "    .dataframe tbody tr th:only-of-type {\n",
       "        vertical-align: middle;\n",
       "    }\n",
       "\n",
       "    .dataframe tbody tr th {\n",
       "        vertical-align: top;\n",
       "    }\n",
       "\n",
       "    .dataframe thead th {\n",
       "        text-align: right;\n",
       "    }\n",
       "</style>\n",
       "<table border=\"1\" class=\"dataframe\">\n",
       "  <thead>\n",
       "    <tr style=\"text-align: right;\">\n",
       "      <th></th>\n",
       "      <th>month</th>\n",
       "      <th>day</th>\n",
       "    </tr>\n",
       "  </thead>\n",
       "  <tbody>\n",
       "    <tr>\n",
       "      <th>count</th>\n",
       "      <td>517</td>\n",
       "      <td>517</td>\n",
       "    </tr>\n",
       "    <tr>\n",
       "      <th>unique</th>\n",
       "      <td>12</td>\n",
       "      <td>7</td>\n",
       "    </tr>\n",
       "    <tr>\n",
       "      <th>top</th>\n",
       "      <td>aug</td>\n",
       "      <td>sun</td>\n",
       "    </tr>\n",
       "    <tr>\n",
       "      <th>freq</th>\n",
       "      <td>184</td>\n",
       "      <td>95</td>\n",
       "    </tr>\n",
       "  </tbody>\n",
       "</table>\n",
       "</div>"
      ],
      "text/plain": [
       "       month  day\n",
       "count    517  517\n",
       "unique    12    7\n",
       "top      aug  sun\n",
       "freq     184   95"
      ]
     },
     "execution_count": 9,
     "metadata": {},
     "output_type": "execute_result"
    }
   ],
   "source": [
    "# Display the object type of data information.\n",
    "\n",
    "forest_df.describe(include=['O'])"
   ]
  },
  {
   "cell_type": "code",
   "execution_count": 10,
   "metadata": {
    "execution": {
     "iopub.execute_input": "2020-09-24T12:37:00.061350Z",
     "iopub.status.busy": "2020-09-24T12:37:00.060129Z",
     "iopub.status.idle": "2020-09-24T12:37:00.064055Z",
     "shell.execute_reply": "2020-09-24T12:37:00.064958Z"
    },
    "papermill": {
     "duration": 0.077881,
     "end_time": "2020-09-24T12:37:00.065182",
     "exception": false,
     "start_time": "2020-09-24T12:36:59.987301",
     "status": "completed"
    },
    "tags": []
   },
   "outputs": [
    {
     "name": "stdout",
     "output_type": "stream",
     "text": [
      "['month', 'day']\n"
     ]
    }
   ],
   "source": [
    "# Lets create an variable and store its column name\n",
    "\n",
    "categorical_feature = forest_df.describe(include=['O']).columns\n",
    "\n",
    "# Print it in list type ...\n",
    "print(list(categorical_feature))"
   ]
  },
  {
   "cell_type": "markdown",
   "metadata": {
    "papermill": {
     "duration": 0.049555,
     "end_time": "2020-09-24T12:37:00.173095",
     "exception": false,
     "start_time": "2020-09-24T12:37:00.123540",
     "status": "completed"
    },
    "tags": []
   },
   "source": [
    "###  Q: How many total number of values in `month` and `day` feature?"
   ]
  },
  {
   "cell_type": "code",
   "execution_count": 11,
   "metadata": {
    "execution": {
     "iopub.execute_input": "2020-09-24T12:37:00.273132Z",
     "iopub.status.busy": "2020-09-24T12:37:00.272235Z",
     "iopub.status.idle": "2020-09-24T12:37:00.276683Z",
     "shell.execute_reply": "2020-09-24T12:37:00.276117Z"
    },
    "papermill": {
     "duration": 0.057941,
     "end_time": "2020-09-24T12:37:00.276813",
     "exception": false,
     "start_time": "2020-09-24T12:37:00.218872",
     "status": "completed"
    },
    "scrolled": true,
    "tags": []
   },
   "outputs": [
    {
     "data": {
      "text/plain": [
       "aug    184\n",
       "sep    172\n",
       "mar     54\n",
       "jul     32\n",
       "feb     20\n",
       "jun     17\n",
       "oct     15\n",
       "apr      9\n",
       "dec      9\n",
       "jan      2\n",
       "may      2\n",
       "nov      1\n",
       "Name: month, dtype: int64"
      ]
     },
     "execution_count": 11,
     "metadata": {},
     "output_type": "execute_result"
    }
   ],
   "source": [
    "forest_df['month'].value_counts()"
   ]
  },
  {
   "cell_type": "code",
   "execution_count": 12,
   "metadata": {
    "execution": {
     "iopub.execute_input": "2020-09-24T12:37:00.378284Z",
     "iopub.status.busy": "2020-09-24T12:37:00.377391Z",
     "iopub.status.idle": "2020-09-24T12:37:00.382897Z",
     "shell.execute_reply": "2020-09-24T12:37:00.382315Z"
    },
    "papermill": {
     "duration": 0.060016,
     "end_time": "2020-09-24T12:37:00.383046",
     "exception": false,
     "start_time": "2020-09-24T12:37:00.323030",
     "status": "completed"
    },
    "scrolled": true,
    "tags": []
   },
   "outputs": [
    {
     "data": {
      "text/plain": [
       "sun    95\n",
       "fri    85\n",
       "sat    84\n",
       "mon    74\n",
       "tue    64\n",
       "thu    61\n",
       "wed    54\n",
       "Name: day, dtype: int64"
      ]
     },
     "execution_count": 12,
     "metadata": {},
     "output_type": "execute_result"
    }
   ],
   "source": [
    "forest_df['day'].value_counts()"
   ]
  },
  {
   "cell_type": "markdown",
   "metadata": {
    "papermill": {
     "duration": 0.047244,
     "end_time": "2020-09-24T12:37:00.478043",
     "exception": false,
     "start_time": "2020-09-24T12:37:00.430799",
     "status": "completed"
    },
    "tags": []
   },
   "source": [
    "### Using same method let's get numerical feature from dataset\n",
    "\n",
    "- Now we are use `int` and `float` instead of `O` (object) to get all integer and float type of feature"
   ]
  },
  {
   "cell_type": "code",
   "execution_count": 13,
   "metadata": {
    "execution": {
     "iopub.execute_input": "2020-09-24T12:37:00.583848Z",
     "iopub.status.busy": "2020-09-24T12:37:00.583002Z",
     "iopub.status.idle": "2020-09-24T12:37:00.629731Z",
     "shell.execute_reply": "2020-09-24T12:37:00.629094Z"
    },
    "papermill": {
     "duration": 0.103534,
     "end_time": "2020-09-24T12:37:00.629866",
     "exception": false,
     "start_time": "2020-09-24T12:37:00.526332",
     "status": "completed"
    },
    "tags": []
   },
   "outputs": [
    {
     "data": {
      "text/html": [
       "<div>\n",
       "<style scoped>\n",
       "    .dataframe tbody tr th:only-of-type {\n",
       "        vertical-align: middle;\n",
       "    }\n",
       "\n",
       "    .dataframe tbody tr th {\n",
       "        vertical-align: top;\n",
       "    }\n",
       "\n",
       "    .dataframe thead th {\n",
       "        text-align: right;\n",
       "    }\n",
       "</style>\n",
       "<table border=\"1\" class=\"dataframe\">\n",
       "  <thead>\n",
       "    <tr style=\"text-align: right;\">\n",
       "      <th></th>\n",
       "      <th>X</th>\n",
       "      <th>Y</th>\n",
       "      <th>FFMC</th>\n",
       "      <th>DMC</th>\n",
       "      <th>DC</th>\n",
       "      <th>ISI</th>\n",
       "      <th>temp</th>\n",
       "      <th>RH</th>\n",
       "      <th>wind</th>\n",
       "      <th>rain</th>\n",
       "      <th>area</th>\n",
       "    </tr>\n",
       "  </thead>\n",
       "  <tbody>\n",
       "    <tr>\n",
       "      <th>count</th>\n",
       "      <td>517.000000</td>\n",
       "      <td>517.000000</td>\n",
       "      <td>517.000000</td>\n",
       "      <td>517.000000</td>\n",
       "      <td>517.000000</td>\n",
       "      <td>517.000000</td>\n",
       "      <td>517.000000</td>\n",
       "      <td>517.000000</td>\n",
       "      <td>517.000000</td>\n",
       "      <td>517.000000</td>\n",
       "      <td>517.000000</td>\n",
       "    </tr>\n",
       "    <tr>\n",
       "      <th>mean</th>\n",
       "      <td>4.669246</td>\n",
       "      <td>4.299807</td>\n",
       "      <td>90.644681</td>\n",
       "      <td>110.872340</td>\n",
       "      <td>547.940039</td>\n",
       "      <td>9.021663</td>\n",
       "      <td>18.889168</td>\n",
       "      <td>44.288201</td>\n",
       "      <td>4.017602</td>\n",
       "      <td>0.021663</td>\n",
       "      <td>12.847292</td>\n",
       "    </tr>\n",
       "    <tr>\n",
       "      <th>std</th>\n",
       "      <td>2.313778</td>\n",
       "      <td>1.229900</td>\n",
       "      <td>5.520111</td>\n",
       "      <td>64.046482</td>\n",
       "      <td>248.066192</td>\n",
       "      <td>4.559477</td>\n",
       "      <td>5.806625</td>\n",
       "      <td>16.317469</td>\n",
       "      <td>1.791653</td>\n",
       "      <td>0.295959</td>\n",
       "      <td>63.655818</td>\n",
       "    </tr>\n",
       "    <tr>\n",
       "      <th>min</th>\n",
       "      <td>1.000000</td>\n",
       "      <td>2.000000</td>\n",
       "      <td>18.700000</td>\n",
       "      <td>1.100000</td>\n",
       "      <td>7.900000</td>\n",
       "      <td>0.000000</td>\n",
       "      <td>2.200000</td>\n",
       "      <td>15.000000</td>\n",
       "      <td>0.400000</td>\n",
       "      <td>0.000000</td>\n",
       "      <td>0.000000</td>\n",
       "    </tr>\n",
       "    <tr>\n",
       "      <th>25%</th>\n",
       "      <td>3.000000</td>\n",
       "      <td>4.000000</td>\n",
       "      <td>90.200000</td>\n",
       "      <td>68.600000</td>\n",
       "      <td>437.700000</td>\n",
       "      <td>6.500000</td>\n",
       "      <td>15.500000</td>\n",
       "      <td>33.000000</td>\n",
       "      <td>2.700000</td>\n",
       "      <td>0.000000</td>\n",
       "      <td>0.000000</td>\n",
       "    </tr>\n",
       "    <tr>\n",
       "      <th>50%</th>\n",
       "      <td>4.000000</td>\n",
       "      <td>4.000000</td>\n",
       "      <td>91.600000</td>\n",
       "      <td>108.300000</td>\n",
       "      <td>664.200000</td>\n",
       "      <td>8.400000</td>\n",
       "      <td>19.300000</td>\n",
       "      <td>42.000000</td>\n",
       "      <td>4.000000</td>\n",
       "      <td>0.000000</td>\n",
       "      <td>0.520000</td>\n",
       "    </tr>\n",
       "    <tr>\n",
       "      <th>75%</th>\n",
       "      <td>7.000000</td>\n",
       "      <td>5.000000</td>\n",
       "      <td>92.900000</td>\n",
       "      <td>142.400000</td>\n",
       "      <td>713.900000</td>\n",
       "      <td>10.800000</td>\n",
       "      <td>22.800000</td>\n",
       "      <td>53.000000</td>\n",
       "      <td>4.900000</td>\n",
       "      <td>0.000000</td>\n",
       "      <td>6.570000</td>\n",
       "    </tr>\n",
       "    <tr>\n",
       "      <th>max</th>\n",
       "      <td>9.000000</td>\n",
       "      <td>9.000000</td>\n",
       "      <td>96.200000</td>\n",
       "      <td>291.300000</td>\n",
       "      <td>860.600000</td>\n",
       "      <td>56.100000</td>\n",
       "      <td>33.300000</td>\n",
       "      <td>100.000000</td>\n",
       "      <td>9.400000</td>\n",
       "      <td>6.400000</td>\n",
       "      <td>1090.840000</td>\n",
       "    </tr>\n",
       "  </tbody>\n",
       "</table>\n",
       "</div>"
      ],
      "text/plain": [
       "                X           Y        FFMC         DMC          DC         ISI  \\\n",
       "count  517.000000  517.000000  517.000000  517.000000  517.000000  517.000000   \n",
       "mean     4.669246    4.299807   90.644681  110.872340  547.940039    9.021663   \n",
       "std      2.313778    1.229900    5.520111   64.046482  248.066192    4.559477   \n",
       "min      1.000000    2.000000   18.700000    1.100000    7.900000    0.000000   \n",
       "25%      3.000000    4.000000   90.200000   68.600000  437.700000    6.500000   \n",
       "50%      4.000000    4.000000   91.600000  108.300000  664.200000    8.400000   \n",
       "75%      7.000000    5.000000   92.900000  142.400000  713.900000   10.800000   \n",
       "max      9.000000    9.000000   96.200000  291.300000  860.600000   56.100000   \n",
       "\n",
       "             temp          RH        wind        rain         area  \n",
       "count  517.000000  517.000000  517.000000  517.000000   517.000000  \n",
       "mean    18.889168   44.288201    4.017602    0.021663    12.847292  \n",
       "std      5.806625   16.317469    1.791653    0.295959    63.655818  \n",
       "min      2.200000   15.000000    0.400000    0.000000     0.000000  \n",
       "25%     15.500000   33.000000    2.700000    0.000000     0.000000  \n",
       "50%     19.300000   42.000000    4.000000    0.000000     0.520000  \n",
       "75%     22.800000   53.000000    4.900000    0.000000     6.570000  \n",
       "max     33.300000  100.000000    9.400000    6.400000  1090.840000  "
      ]
     },
     "execution_count": 13,
     "metadata": {},
     "output_type": "execute_result"
    }
   ],
   "source": [
    "forest_df.describe(include=[\"int\", \"float\"])"
   ]
  },
  {
   "cell_type": "markdown",
   "metadata": {
    "papermill": {
     "duration": 0.05044,
     "end_time": "2020-09-24T12:37:00.730462",
     "exception": false,
     "start_time": "2020-09-24T12:37:00.680022",
     "status": "completed"
    },
    "tags": []
   },
   "source": [
    "#### In this table, We can clearly seen that what are the `min`, `median`, `std`, `max` and `25%`, `50%`, `75%` values."
   ]
  },
  {
   "cell_type": "code",
   "execution_count": 14,
   "metadata": {
    "execution": {
     "iopub.execute_input": "2020-09-24T12:37:00.842466Z",
     "iopub.status.busy": "2020-09-24T12:37:00.841467Z",
     "iopub.status.idle": "2020-09-24T12:37:00.870004Z",
     "shell.execute_reply": "2020-09-24T12:37:00.869154Z"
    },
    "papermill": {
     "duration": 0.090951,
     "end_time": "2020-09-24T12:37:00.870151",
     "exception": false,
     "start_time": "2020-09-24T12:37:00.779200",
     "status": "completed"
    },
    "tags": []
   },
   "outputs": [
    {
     "name": "stdout",
     "output_type": "stream",
     "text": [
      "['X', 'Y', 'FFMC', 'DMC', 'DC', 'ISI', 'temp', 'RH', 'wind', 'rain', 'area']\n"
     ]
    }
   ],
   "source": [
    "numerical_feature = forest_df.describe(include=[\"int\", \"float\"]).columns\n",
    "\n",
    "# Print it in list type ..\n",
    "print(list(numerical_feature))"
   ]
  },
  {
   "cell_type": "markdown",
   "metadata": {
    "papermill": {
     "duration": 0.049244,
     "end_time": "2020-09-24T12:37:00.971015",
     "exception": false,
     "start_time": "2020-09-24T12:37:00.921771",
     "status": "completed"
    },
    "tags": []
   },
   "source": [
    "- Create new column for area in kilometers. and convert hector to kilometer\n"
   ]
  },
  {
   "cell_type": "code",
   "execution_count": 15,
   "metadata": {
    "execution": {
     "iopub.execute_input": "2020-09-24T12:37:01.086663Z",
     "iopub.status.busy": "2020-09-24T12:37:01.085800Z",
     "iopub.status.idle": "2020-09-24T12:37:01.115678Z",
     "shell.execute_reply": "2020-09-24T12:37:01.116240Z"
    },
    "papermill": {
     "duration": 0.090339,
     "end_time": "2020-09-24T12:37:01.116408",
     "exception": false,
     "start_time": "2020-09-24T12:37:01.026069",
     "status": "completed"
    },
    "tags": []
   },
   "outputs": [
    {
     "data": {
      "text/html": [
       "<div>\n",
       "<style scoped>\n",
       "    .dataframe tbody tr th:only-of-type {\n",
       "        vertical-align: middle;\n",
       "    }\n",
       "\n",
       "    .dataframe tbody tr th {\n",
       "        vertical-align: top;\n",
       "    }\n",
       "\n",
       "    .dataframe thead th {\n",
       "        text-align: right;\n",
       "    }\n",
       "</style>\n",
       "<table border=\"1\" class=\"dataframe\">\n",
       "  <thead>\n",
       "    <tr style=\"text-align: right;\">\n",
       "      <th></th>\n",
       "      <th>X</th>\n",
       "      <th>Y</th>\n",
       "      <th>month</th>\n",
       "      <th>day</th>\n",
       "      <th>FFMC</th>\n",
       "      <th>DMC</th>\n",
       "      <th>DC</th>\n",
       "      <th>ISI</th>\n",
       "      <th>temp</th>\n",
       "      <th>RH</th>\n",
       "      <th>wind</th>\n",
       "      <th>rain</th>\n",
       "      <th>area</th>\n",
       "      <th>area_km</th>\n",
       "    </tr>\n",
       "  </thead>\n",
       "  <tbody>\n",
       "    <tr>\n",
       "      <th>0</th>\n",
       "      <td>7</td>\n",
       "      <td>5</td>\n",
       "      <td>mar</td>\n",
       "      <td>fri</td>\n",
       "      <td>86.2</td>\n",
       "      <td>26.2</td>\n",
       "      <td>94.3</td>\n",
       "      <td>5.1</td>\n",
       "      <td>8.2</td>\n",
       "      <td>51</td>\n",
       "      <td>6.7</td>\n",
       "      <td>0.0</td>\n",
       "      <td>0.00</td>\n",
       "      <td>0.0000</td>\n",
       "    </tr>\n",
       "    <tr>\n",
       "      <th>1</th>\n",
       "      <td>7</td>\n",
       "      <td>4</td>\n",
       "      <td>oct</td>\n",
       "      <td>tue</td>\n",
       "      <td>90.6</td>\n",
       "      <td>35.4</td>\n",
       "      <td>669.1</td>\n",
       "      <td>6.7</td>\n",
       "      <td>18.0</td>\n",
       "      <td>33</td>\n",
       "      <td>0.9</td>\n",
       "      <td>0.0</td>\n",
       "      <td>0.00</td>\n",
       "      <td>0.0000</td>\n",
       "    </tr>\n",
       "    <tr>\n",
       "      <th>2</th>\n",
       "      <td>7</td>\n",
       "      <td>4</td>\n",
       "      <td>oct</td>\n",
       "      <td>sat</td>\n",
       "      <td>90.6</td>\n",
       "      <td>43.7</td>\n",
       "      <td>686.9</td>\n",
       "      <td>6.7</td>\n",
       "      <td>14.6</td>\n",
       "      <td>33</td>\n",
       "      <td>1.3</td>\n",
       "      <td>0.0</td>\n",
       "      <td>0.00</td>\n",
       "      <td>0.0000</td>\n",
       "    </tr>\n",
       "    <tr>\n",
       "      <th>3</th>\n",
       "      <td>8</td>\n",
       "      <td>6</td>\n",
       "      <td>mar</td>\n",
       "      <td>fri</td>\n",
       "      <td>91.7</td>\n",
       "      <td>33.3</td>\n",
       "      <td>77.5</td>\n",
       "      <td>9.0</td>\n",
       "      <td>8.3</td>\n",
       "      <td>97</td>\n",
       "      <td>4.0</td>\n",
       "      <td>0.2</td>\n",
       "      <td>0.00</td>\n",
       "      <td>0.0000</td>\n",
       "    </tr>\n",
       "    <tr>\n",
       "      <th>4</th>\n",
       "      <td>8</td>\n",
       "      <td>6</td>\n",
       "      <td>mar</td>\n",
       "      <td>sun</td>\n",
       "      <td>89.3</td>\n",
       "      <td>51.3</td>\n",
       "      <td>102.2</td>\n",
       "      <td>9.6</td>\n",
       "      <td>11.4</td>\n",
       "      <td>99</td>\n",
       "      <td>1.8</td>\n",
       "      <td>0.0</td>\n",
       "      <td>0.00</td>\n",
       "      <td>0.0000</td>\n",
       "    </tr>\n",
       "    <tr>\n",
       "      <th>...</th>\n",
       "      <td>...</td>\n",
       "      <td>...</td>\n",
       "      <td>...</td>\n",
       "      <td>...</td>\n",
       "      <td>...</td>\n",
       "      <td>...</td>\n",
       "      <td>...</td>\n",
       "      <td>...</td>\n",
       "      <td>...</td>\n",
       "      <td>...</td>\n",
       "      <td>...</td>\n",
       "      <td>...</td>\n",
       "      <td>...</td>\n",
       "      <td>...</td>\n",
       "    </tr>\n",
       "    <tr>\n",
       "      <th>512</th>\n",
       "      <td>4</td>\n",
       "      <td>3</td>\n",
       "      <td>aug</td>\n",
       "      <td>sun</td>\n",
       "      <td>81.6</td>\n",
       "      <td>56.7</td>\n",
       "      <td>665.6</td>\n",
       "      <td>1.9</td>\n",
       "      <td>27.8</td>\n",
       "      <td>32</td>\n",
       "      <td>2.7</td>\n",
       "      <td>0.0</td>\n",
       "      <td>6.44</td>\n",
       "      <td>0.0644</td>\n",
       "    </tr>\n",
       "    <tr>\n",
       "      <th>513</th>\n",
       "      <td>2</td>\n",
       "      <td>4</td>\n",
       "      <td>aug</td>\n",
       "      <td>sun</td>\n",
       "      <td>81.6</td>\n",
       "      <td>56.7</td>\n",
       "      <td>665.6</td>\n",
       "      <td>1.9</td>\n",
       "      <td>21.9</td>\n",
       "      <td>71</td>\n",
       "      <td>5.8</td>\n",
       "      <td>0.0</td>\n",
       "      <td>54.29</td>\n",
       "      <td>0.5429</td>\n",
       "    </tr>\n",
       "    <tr>\n",
       "      <th>514</th>\n",
       "      <td>7</td>\n",
       "      <td>4</td>\n",
       "      <td>aug</td>\n",
       "      <td>sun</td>\n",
       "      <td>81.6</td>\n",
       "      <td>56.7</td>\n",
       "      <td>665.6</td>\n",
       "      <td>1.9</td>\n",
       "      <td>21.2</td>\n",
       "      <td>70</td>\n",
       "      <td>6.7</td>\n",
       "      <td>0.0</td>\n",
       "      <td>11.16</td>\n",
       "      <td>0.1116</td>\n",
       "    </tr>\n",
       "    <tr>\n",
       "      <th>515</th>\n",
       "      <td>1</td>\n",
       "      <td>4</td>\n",
       "      <td>aug</td>\n",
       "      <td>sat</td>\n",
       "      <td>94.4</td>\n",
       "      <td>146.0</td>\n",
       "      <td>614.7</td>\n",
       "      <td>11.3</td>\n",
       "      <td>25.6</td>\n",
       "      <td>42</td>\n",
       "      <td>4.0</td>\n",
       "      <td>0.0</td>\n",
       "      <td>0.00</td>\n",
       "      <td>0.0000</td>\n",
       "    </tr>\n",
       "    <tr>\n",
       "      <th>516</th>\n",
       "      <td>6</td>\n",
       "      <td>3</td>\n",
       "      <td>nov</td>\n",
       "      <td>tue</td>\n",
       "      <td>79.5</td>\n",
       "      <td>3.0</td>\n",
       "      <td>106.7</td>\n",
       "      <td>1.1</td>\n",
       "      <td>11.8</td>\n",
       "      <td>31</td>\n",
       "      <td>4.5</td>\n",
       "      <td>0.0</td>\n",
       "      <td>0.00</td>\n",
       "      <td>0.0000</td>\n",
       "    </tr>\n",
       "  </tbody>\n",
       "</table>\n",
       "<p>517 rows × 14 columns</p>\n",
       "</div>"
      ],
      "text/plain": [
       "     X  Y month  day  FFMC    DMC     DC   ISI  temp  RH  wind  rain   area  \\\n",
       "0    7  5   mar  fri  86.2   26.2   94.3   5.1   8.2  51   6.7   0.0   0.00   \n",
       "1    7  4   oct  tue  90.6   35.4  669.1   6.7  18.0  33   0.9   0.0   0.00   \n",
       "2    7  4   oct  sat  90.6   43.7  686.9   6.7  14.6  33   1.3   0.0   0.00   \n",
       "3    8  6   mar  fri  91.7   33.3   77.5   9.0   8.3  97   4.0   0.2   0.00   \n",
       "4    8  6   mar  sun  89.3   51.3  102.2   9.6  11.4  99   1.8   0.0   0.00   \n",
       "..  .. ..   ...  ...   ...    ...    ...   ...   ...  ..   ...   ...    ...   \n",
       "512  4  3   aug  sun  81.6   56.7  665.6   1.9  27.8  32   2.7   0.0   6.44   \n",
       "513  2  4   aug  sun  81.6   56.7  665.6   1.9  21.9  71   5.8   0.0  54.29   \n",
       "514  7  4   aug  sun  81.6   56.7  665.6   1.9  21.2  70   6.7   0.0  11.16   \n",
       "515  1  4   aug  sat  94.4  146.0  614.7  11.3  25.6  42   4.0   0.0   0.00   \n",
       "516  6  3   nov  tue  79.5    3.0  106.7   1.1  11.8  31   4.5   0.0   0.00   \n",
       "\n",
       "     area_km  \n",
       "0     0.0000  \n",
       "1     0.0000  \n",
       "2     0.0000  \n",
       "3     0.0000  \n",
       "4     0.0000  \n",
       "..       ...  \n",
       "512   0.0644  \n",
       "513   0.5429  \n",
       "514   0.1116  \n",
       "515   0.0000  \n",
       "516   0.0000  \n",
       "\n",
       "[517 rows x 14 columns]"
      ]
     },
     "execution_count": 15,
     "metadata": {},
     "output_type": "execute_result"
    }
   ],
   "source": [
    "forest_df['area_km'] = forest_df['area'] / 100\n",
    "\n",
    "forest_df"
   ]
  },
  {
   "cell_type": "markdown",
   "metadata": {
    "id": "uknvgUg-q-58",
    "papermill": {
     "duration": 0.049464,
     "end_time": "2020-09-24T12:37:01.216428",
     "exception": false,
     "start_time": "2020-09-24T12:37:01.166964",
     "status": "completed"
    },
    "tags": []
   },
   "source": [
    "## Exploratory Analysis and Visualization\n",
    "\n",
    "In this section, We are doing the analysis of the data using pandas method and visualization the graphs using matplotlib and seaborn package,"
   ]
  },
  {
   "cell_type": "markdown",
   "metadata": {
    "papermill": {
     "duration": 0.049122,
     "end_time": "2020-09-24T12:37:01.315153",
     "exception": false,
     "start_time": "2020-09-24T12:37:01.266031",
     "status": "completed"
    },
    "tags": []
   },
   "source": [
    "### Q: What is the Highest Fire In KM?"
   ]
  },
  {
   "cell_type": "code",
   "execution_count": 16,
   "metadata": {
    "execution": {
     "iopub.execute_input": "2020-09-24T12:37:01.421222Z",
     "iopub.status.busy": "2020-09-24T12:37:01.420379Z",
     "iopub.status.idle": "2020-09-24T12:37:01.445289Z",
     "shell.execute_reply": "2020-09-24T12:37:01.444424Z"
    },
    "id": "Zl5JP5E7q-58",
    "papermill": {
     "duration": 0.080708,
     "end_time": "2020-09-24T12:37:01.445432",
     "exception": false,
     "start_time": "2020-09-24T12:37:01.364724",
     "status": "completed"
    },
    "scrolled": true,
    "tags": []
   },
   "outputs": [
    {
     "data": {
      "text/html": [
       "<div>\n",
       "<style scoped>\n",
       "    .dataframe tbody tr th:only-of-type {\n",
       "        vertical-align: middle;\n",
       "    }\n",
       "\n",
       "    .dataframe tbody tr th {\n",
       "        vertical-align: top;\n",
       "    }\n",
       "\n",
       "    .dataframe thead th {\n",
       "        text-align: right;\n",
       "    }\n",
       "</style>\n",
       "<table border=\"1\" class=\"dataframe\">\n",
       "  <thead>\n",
       "    <tr style=\"text-align: right;\">\n",
       "      <th></th>\n",
       "      <th>X</th>\n",
       "      <th>Y</th>\n",
       "      <th>month</th>\n",
       "      <th>day</th>\n",
       "      <th>FFMC</th>\n",
       "      <th>DMC</th>\n",
       "      <th>DC</th>\n",
       "      <th>ISI</th>\n",
       "      <th>temp</th>\n",
       "      <th>RH</th>\n",
       "      <th>wind</th>\n",
       "      <th>rain</th>\n",
       "      <th>area</th>\n",
       "      <th>area_km</th>\n",
       "    </tr>\n",
       "  </thead>\n",
       "  <tbody>\n",
       "    <tr>\n",
       "      <th>238</th>\n",
       "      <td>6</td>\n",
       "      <td>5</td>\n",
       "      <td>sep</td>\n",
       "      <td>sat</td>\n",
       "      <td>92.5</td>\n",
       "      <td>121.1</td>\n",
       "      <td>674.4</td>\n",
       "      <td>8.6</td>\n",
       "      <td>25.1</td>\n",
       "      <td>27</td>\n",
       "      <td>4.0</td>\n",
       "      <td>0.0</td>\n",
       "      <td>1090.84</td>\n",
       "      <td>10.9084</td>\n",
       "    </tr>\n",
       "    <tr>\n",
       "      <th>415</th>\n",
       "      <td>8</td>\n",
       "      <td>6</td>\n",
       "      <td>aug</td>\n",
       "      <td>thu</td>\n",
       "      <td>94.8</td>\n",
       "      <td>222.4</td>\n",
       "      <td>698.6</td>\n",
       "      <td>13.9</td>\n",
       "      <td>27.5</td>\n",
       "      <td>27</td>\n",
       "      <td>4.9</td>\n",
       "      <td>0.0</td>\n",
       "      <td>746.28</td>\n",
       "      <td>7.4628</td>\n",
       "    </tr>\n",
       "    <tr>\n",
       "      <th>479</th>\n",
       "      <td>7</td>\n",
       "      <td>4</td>\n",
       "      <td>jul</td>\n",
       "      <td>mon</td>\n",
       "      <td>89.2</td>\n",
       "      <td>103.9</td>\n",
       "      <td>431.6</td>\n",
       "      <td>6.4</td>\n",
       "      <td>22.6</td>\n",
       "      <td>57</td>\n",
       "      <td>4.9</td>\n",
       "      <td>0.0</td>\n",
       "      <td>278.53</td>\n",
       "      <td>2.7853</td>\n",
       "    </tr>\n",
       "    <tr>\n",
       "      <th>237</th>\n",
       "      <td>1</td>\n",
       "      <td>2</td>\n",
       "      <td>sep</td>\n",
       "      <td>tue</td>\n",
       "      <td>91.0</td>\n",
       "      <td>129.5</td>\n",
       "      <td>692.6</td>\n",
       "      <td>7.0</td>\n",
       "      <td>18.8</td>\n",
       "      <td>40</td>\n",
       "      <td>2.2</td>\n",
       "      <td>0.0</td>\n",
       "      <td>212.88</td>\n",
       "      <td>2.1288</td>\n",
       "    </tr>\n",
       "    <tr>\n",
       "      <th>236</th>\n",
       "      <td>2</td>\n",
       "      <td>2</td>\n",
       "      <td>sep</td>\n",
       "      <td>sat</td>\n",
       "      <td>92.5</td>\n",
       "      <td>121.1</td>\n",
       "      <td>674.4</td>\n",
       "      <td>8.6</td>\n",
       "      <td>18.2</td>\n",
       "      <td>46</td>\n",
       "      <td>1.8</td>\n",
       "      <td>0.0</td>\n",
       "      <td>200.94</td>\n",
       "      <td>2.0094</td>\n",
       "    </tr>\n",
       "  </tbody>\n",
       "</table>\n",
       "</div>"
      ],
      "text/plain": [
       "     X  Y month  day  FFMC    DMC     DC   ISI  temp  RH  wind  rain     area  \\\n",
       "238  6  5   sep  sat  92.5  121.1  674.4   8.6  25.1  27   4.0   0.0  1090.84   \n",
       "415  8  6   aug  thu  94.8  222.4  698.6  13.9  27.5  27   4.9   0.0   746.28   \n",
       "479  7  4   jul  mon  89.2  103.9  431.6   6.4  22.6  57   4.9   0.0   278.53   \n",
       "237  1  2   sep  tue  91.0  129.5  692.6   7.0  18.8  40   2.2   0.0   212.88   \n",
       "236  2  2   sep  sat  92.5  121.1  674.4   8.6  18.2  46   1.8   0.0   200.94   \n",
       "\n",
       "     area_km  \n",
       "238  10.9084  \n",
       "415   7.4628  \n",
       "479   2.7853  \n",
       "237   2.1288  \n",
       "236   2.0094  "
      ]
     },
     "execution_count": 16,
     "metadata": {},
     "output_type": "execute_result"
    }
   ],
   "source": [
    "# Shows the highes area in km\n",
    "\n",
    "forest_df.sort_values(by=\"area_km\", ascending=False).head()"
   ]
  },
  {
   "cell_type": "code",
   "execution_count": 17,
   "metadata": {
    "execution": {
     "iopub.execute_input": "2020-09-24T12:37:01.556425Z",
     "iopub.status.busy": "2020-09-24T12:37:01.555434Z",
     "iopub.status.idle": "2020-09-24T12:37:03.043106Z",
     "shell.execute_reply": "2020-09-24T12:37:03.044030Z"
    },
    "papermill": {
     "duration": 1.547789,
     "end_time": "2020-09-24T12:37:03.044254",
     "exception": false,
     "start_time": "2020-09-24T12:37:01.496465",
     "status": "completed"
    },
    "tags": []
   },
   "outputs": [
    {
     "data": {
      "image/png": "[encoded data removed]",
      "text/plain": [
       "<Figure size 576x432 with 1 Axes>"
      ]
     },
     "metadata": {},
     "output_type": "display_data"
    }
   ],
   "source": [
    "highest_fire_area = forest_df.sort_values(by=\"area_km\", ascending=True)\n",
    "\n",
    "plt.figure(figsize=(8, 6))\n",
    "\n",
    "plt.title(\"Temperature vs area of fire\" )\n",
    "plt.bar(highest_fire_area['temp'], highest_fire_area['area_km'])\n",
    "\n",
    "plt.xlabel(\"Temperature\")\n",
    "plt.ylabel(\"Area per km-sq\")\n",
    "plt.show()"
   ]
  },
  {
   "cell_type": "markdown",
   "metadata": {
    "id": "mfVj_nQ5q-5_",
    "papermill": {
     "duration": 0.05647,
     "end_time": "2020-09-24T12:37:03.156562",
     "exception": false,
     "start_time": "2020-09-24T12:37:03.100092",
     "status": "completed"
    },
    "tags": []
   },
   "source": [
    "#### Observation:\n",
    "\n",
    "- Here, We can see that the highest fire around the area in kilometers and the temperature. Around 25 to 30 temperature the heightst km per area fire occurs."
   ]
  },
  {
   "cell_type": "markdown",
   "metadata": {
    "papermill": {
     "duration": 0.050883,
     "end_time": "2020-09-24T12:37:03.265086",
     "exception": false,
     "start_time": "2020-09-24T12:37:03.214203",
     "status": "completed"
    },
    "tags": []
   },
   "source": [
    "#### Show the number of categorial values using graphs\n",
    "\n"
   ]
  },
  {
   "cell_type": "code",
   "execution_count": 18,
   "metadata": {
    "execution": {
     "iopub.execute_input": "2020-09-24T12:37:03.387158Z",
     "iopub.status.busy": "2020-09-24T12:37:03.379150Z",
     "iopub.status.idle": "2020-09-24T12:37:04.012014Z",
     "shell.execute_reply": "2020-09-24T12:37:04.011222Z"
    },
    "papermill": {
     "duration": 0.694534,
     "end_time": "2020-09-24T12:37:04.012140",
     "exception": false,
     "start_time": "2020-09-24T12:37:03.317606",
     "status": "completed"
    },
    "tags": []
   },
   "outputs": [
    {
     "name": "stdout",
     "output_type": "stream",
     "text": [
      "Index(['month', 'day'], dtype='object')\n"
     ]
    },
    {
     "data": {
      "image/png": "[encoded data removed]",
      "text/plain": [
       "<Figure size 720x360 with 2 Axes>"
      ]
     },
     "metadata": {},
     "output_type": "display_data"
    }
   ],
   "source": [
    "print(categorical_feature)\n",
    "\n",
    "\n",
    "plt.figure(figsize=(10, 5))\n",
    "for idx, column in enumerate(categorical_feature):\n",
    "    df = forest_df.copy()\n",
    "    unique = df[column].value_counts(ascending=True);\n",
    " \n",
    "    plt.subplot(1, 2, idx+1)    \n",
    "    plt.title(\"Count of \"+ column)\n",
    "    plt.bar(unique.index, unique.values);\n",
    "    \n",
    "    plt.xlabel(column)\n",
    "    plt.ylabel(\"Number of \"+ column)\n",
    "    \n",
    "plt.tight_layout()\n",
    "plt.show()     "
   ]
  },
  {
   "cell_type": "code",
   "execution_count": 19,
   "metadata": {
    "execution": {
     "iopub.execute_input": "2020-09-24T12:37:04.134308Z",
     "iopub.status.busy": "2020-09-24T12:37:04.133222Z",
     "iopub.status.idle": "2020-09-24T12:37:04.138700Z",
     "shell.execute_reply": "2020-09-24T12:37:04.137853Z"
    },
    "papermill": {
     "duration": 0.072248,
     "end_time": "2020-09-24T12:37:04.138849",
     "exception": false,
     "start_time": "2020-09-24T12:37:04.066601",
     "status": "completed"
    },
    "tags": []
   },
   "outputs": [
    {
     "data": {
      "text/html": [
       "<div>\n",
       "<style scoped>\n",
       "    .dataframe tbody tr th:only-of-type {\n",
       "        vertical-align: middle;\n",
       "    }\n",
       "\n",
       "    .dataframe tbody tr th {\n",
       "        vertical-align: top;\n",
       "    }\n",
       "\n",
       "    .dataframe thead th {\n",
       "        text-align: right;\n",
       "    }\n",
       "</style>\n",
       "<table border=\"1\" class=\"dataframe\">\n",
       "  <thead>\n",
       "    <tr style=\"text-align: right;\">\n",
       "      <th></th>\n",
       "      <th>month</th>\n",
       "      <th>day</th>\n",
       "    </tr>\n",
       "  </thead>\n",
       "  <tbody>\n",
       "    <tr>\n",
       "      <th>0</th>\n",
       "      <td>mar</td>\n",
       "      <td>fri</td>\n",
       "    </tr>\n",
       "    <tr>\n",
       "      <th>1</th>\n",
       "      <td>oct</td>\n",
       "      <td>tue</td>\n",
       "    </tr>\n",
       "    <tr>\n",
       "      <th>2</th>\n",
       "      <td>oct</td>\n",
       "      <td>sat</td>\n",
       "    </tr>\n",
       "    <tr>\n",
       "      <th>3</th>\n",
       "      <td>mar</td>\n",
       "      <td>fri</td>\n",
       "    </tr>\n",
       "    <tr>\n",
       "      <th>4</th>\n",
       "      <td>mar</td>\n",
       "      <td>sun</td>\n",
       "    </tr>\n",
       "    <tr>\n",
       "      <th>...</th>\n",
       "      <td>...</td>\n",
       "      <td>...</td>\n",
       "    </tr>\n",
       "    <tr>\n",
       "      <th>512</th>\n",
       "      <td>aug</td>\n",
       "      <td>sun</td>\n",
       "    </tr>\n",
       "    <tr>\n",
       "      <th>513</th>\n",
       "      <td>aug</td>\n",
       "      <td>sun</td>\n",
       "    </tr>\n",
       "    <tr>\n",
       "      <th>514</th>\n",
       "      <td>aug</td>\n",
       "      <td>sun</td>\n",
       "    </tr>\n",
       "    <tr>\n",
       "      <th>515</th>\n",
       "      <td>aug</td>\n",
       "      <td>sat</td>\n",
       "    </tr>\n",
       "    <tr>\n",
       "      <th>516</th>\n",
       "      <td>nov</td>\n",
       "      <td>tue</td>\n",
       "    </tr>\n",
       "  </tbody>\n",
       "</table>\n",
       "<p>517 rows × 2 columns</p>\n",
       "</div>"
      ],
      "text/plain": [
       "    month  day\n",
       "0     mar  fri\n",
       "1     oct  tue\n",
       "2     oct  sat\n",
       "3     mar  fri\n",
       "4     mar  sun\n",
       "..    ...  ...\n",
       "512   aug  sun\n",
       "513   aug  sun\n",
       "514   aug  sun\n",
       "515   aug  sat\n",
       "516   nov  tue\n",
       "\n",
       "[517 rows x 2 columns]"
      ]
     },
     "execution_count": 19,
     "metadata": {},
     "output_type": "execute_result"
    }
   ],
   "source": [
    "len(numerical_feature)\n",
    "\n",
    "# forest_df[numerical_feature]\n",
    "forest_df[categorical_feature]"
   ]
  },
  {
   "cell_type": "markdown",
   "metadata": {
    "papermill": {
     "duration": 0.053445,
     "end_time": "2020-09-24T12:37:04.248461",
     "exception": false,
     "start_time": "2020-09-24T12:37:04.195016",
     "status": "completed"
    },
    "tags": []
   },
   "source": [
    "### PairPloat Relation"
   ]
  },
  {
   "cell_type": "code",
   "execution_count": 20,
   "metadata": {
    "execution": {
     "iopub.execute_input": "2020-09-24T12:37:04.375045Z",
     "iopub.status.busy": "2020-09-24T12:37:04.369052Z",
     "iopub.status.idle": "2020-09-24T12:37:09.894789Z",
     "shell.execute_reply": "2020-09-24T12:37:09.895398Z"
    },
    "id": "09Zsy_Pfq-6D",
    "papermill": {
     "duration": 5.593577,
     "end_time": "2020-09-24T12:37:09.895569",
     "exception": false,
     "start_time": "2020-09-24T12:37:04.301992",
     "status": "completed"
    },
    "tags": []
   },
   "outputs": [
    {
     "data": {
      "image/png": "[encoded data removed]",
      "text/plain": [
       "<Figure size 720x720 with 20 Axes>"
      ]
     },
     "metadata": {},
     "output_type": "display_data"
    }
   ],
   "source": [
    "sns.set_style('darkgrid')\n",
    "# Find the relation\n",
    "# plt.subplot(forest_df)\n",
    "\n",
    "sns.pairplot(forest_df[[\"temp\", \"wind\", \"rain\", \"area_km\"]])\n",
    "plt.show()\n"
   ]
  },
  {
   "cell_type": "markdown",
   "metadata": {
    "id": "w-jC1jTSq-6F",
    "papermill": {
     "duration": 0.056851,
     "end_time": "2020-09-24T12:37:10.009112",
     "exception": false,
     "start_time": "2020-09-24T12:37:09.952261",
     "status": "completed"
    },
    "tags": []
   },
   "source": [
    "### Box Plot Outliers\n",
    "\n",
    "- Show the min, max, median, mean and outliers in this boxplots"
   ]
  },
  {
   "cell_type": "code",
   "execution_count": null,
   "metadata": {
    "papermill": {
     "duration": 0.055984,
     "end_time": "2020-09-24T12:37:10.122709",
     "exception": false,
     "start_time": "2020-09-24T12:37:10.066725",
     "status": "completed"
    },
    "tags": []
   },
   "outputs": [],
   "source": []
  },
  {
   "cell_type": "code",
   "execution_count": 21,
   "metadata": {
    "execution": {
     "iopub.execute_input": "2020-09-24T12:37:10.243814Z",
     "iopub.status.busy": "2020-09-24T12:37:10.242964Z",
     "iopub.status.idle": "2020-09-24T12:37:11.817495Z",
     "shell.execute_reply": "2020-09-24T12:37:11.816754Z"
    },
    "papermill": {
     "duration": 1.638575,
     "end_time": "2020-09-24T12:37:11.817638",
     "exception": false,
     "start_time": "2020-09-24T12:37:10.179063",
     "status": "completed"
    },
    "scrolled": false,
    "tags": []
   },
   "outputs": [
    {
     "data": {
      "image/png": "[encoded data removed]",
      "text/plain": [
       "<Figure size 360x360 with 1 Axes>"
      ]
     },
     "metadata": {},
     "output_type": "display_data"
    },
    {
     "data": {
      "image/png": "[encoded data removed]",
      "text/plain": [
       "<Figure size 360x360 with 1 Axes>"
      ]
     },
     "metadata": {},
     "output_type": "display_data"
    },
    {
     "data": {
      "image/png": "[encoded data removed]",
      "text/plain": [
       "<Figure size 360x360 with 1 Axes>"
      ]
     },
     "metadata": {},
     "output_type": "display_data"
    },
    {
     "data": {
      "image/png": "[encoded data removed]",
      "text/plain": [
       "<Figure size 360x360 with 1 Axes>"
      ]
     },
     "metadata": {},
     "output_type": "display_data"
    },
    {
     "data": {
      "image/png": "[encoded data removed]",
      "text/plain": [
       "<Figure size 360x360 with 1 Axes>"
      ]
     },
     "metadata": {},
     "output_type": "display_data"
    },
    {
     "data": {
      "image/png": "[encoded data removed]",
      "text/plain": [
       "<Figure size 360x360 with 1 Axes>"
      ]
     },
     "metadata": {},
     "output_type": "display_data"
    },
    {
     "data": {
      "image/png": "[encoded data removed]",
      "text/plain": [
       "<Figure size 360x360 with 1 Axes>"
      ]
     },
     "metadata": {},
     "output_type": "display_data"
    },
    {
     "data": {
      "image/png": "[encoded data removed]",
      "text/plain": [
       "<Figure size 360x360 with 1 Axes>"
      ]
     },
     "metadata": {},
     "output_type": "display_data"
    },
    {
     "data": {
      "image/png": "[encoded data removed]",
      "text/plain": [
       "<Figure size 360x360 with 1 Axes>"
      ]
     },
     "metadata": {},
     "output_type": "display_data"
    },
    {
     "data": {
      "image/png": "[encoded data removed]",
      "text/plain": [
       "<Figure size 360x360 with 1 Axes>"
      ]
     },
     "metadata": {},
     "output_type": "display_data"
    },
    {
     "data": {
      "image/png": "[encoded data removed]",
      "text/plain": [
       "<Figure size 360x360 with 1 Axes>"
      ]
     },
     "metadata": {},
     "output_type": "display_data"
    }
   ],
   "source": [
    "for idx, col  in enumerate(numerical_feature, 1):\n",
    "    plt.figure(figsize=(5,5))\n",
    "    \n",
    "#     plt.subplot(len(numerical_feature) // 2, 3, idx)\n",
    "    plt.boxplot(forest_df[col])\n",
    "\n",
    "    plt.title(col)\n",
    "#     plt.hist(forest_df[col])\n",
    "\n",
    "plt.tight_layout()\n",
    "plt.show(plt)"
   ]
  },
  {
   "cell_type": "markdown",
   "metadata": {
    "papermill": {
     "duration": 0.0716,
     "end_time": "2020-09-24T12:37:11.955716",
     "exception": false,
     "start_time": "2020-09-24T12:37:11.884116",
     "status": "completed"
    },
    "tags": []
   },
   "source": [
    "### HeatMap"
   ]
  },
  {
   "cell_type": "code",
   "execution_count": 22,
   "metadata": {
    "execution": {
     "iopub.execute_input": "2020-09-24T12:37:12.094610Z",
     "iopub.status.busy": "2020-09-24T12:37:12.093824Z",
     "iopub.status.idle": "2020-09-24T12:37:12.866701Z",
     "shell.execute_reply": "2020-09-24T12:37:12.866127Z"
    },
    "papermill": {
     "duration": 0.84578,
     "end_time": "2020-09-24T12:37:12.866825",
     "exception": false,
     "start_time": "2020-09-24T12:37:12.021045",
     "status": "completed"
    },
    "scrolled": true,
    "tags": []
   },
   "outputs": [
    {
     "data": {
      "image/png": "[encoded data removed]",
      "text/plain": [
       "<Figure size 1080x864 with 2 Axes>"
      ]
     },
     "metadata": {},
     "output_type": "display_data"
    }
   ],
   "source": [
    "plt.figure(figsize=(15, 12))\n",
    "\n",
    "plt.title(\"Heatmap Relation\")\n",
    "\n",
    "sns.heatmap(forest_df[numerical_feature].corr(), annot=True, fmt='.2f');\n"
   ]
  },
  {
   "cell_type": "markdown",
   "metadata": {
    "papermill": {
     "duration": 0.067129,
     "end_time": "2020-09-24T12:37:13.001644",
     "exception": false,
     "start_time": "2020-09-24T12:37:12.934515",
     "status": "completed"
    },
    "tags": []
   },
   "source": [
    "##### As we can see in this heatmap, The lighter color shows the higher cor-relation betweem two variables and the darker color has less relation ship."
   ]
  },
  {
   "cell_type": "code",
   "execution_count": 23,
   "metadata": {
    "execution": {
     "iopub.execute_input": "2020-09-24T12:37:13.146584Z",
     "iopub.status.busy": "2020-09-24T12:37:13.145705Z",
     "iopub.status.idle": "2020-09-24T12:37:13.176490Z",
     "shell.execute_reply": "2020-09-24T12:37:13.175706Z"
    },
    "papermill": {
     "duration": 0.105907,
     "end_time": "2020-09-24T12:37:13.176625",
     "exception": false,
     "start_time": "2020-09-24T12:37:13.070718",
     "status": "completed"
    },
    "tags": []
   },
   "outputs": [
    {
     "data": {
      "text/html": [
       "<div>\n",
       "<style scoped>\n",
       "    .dataframe tbody tr th:only-of-type {\n",
       "        vertical-align: middle;\n",
       "    }\n",
       "\n",
       "    .dataframe tbody tr th {\n",
       "        vertical-align: top;\n",
       "    }\n",
       "\n",
       "    .dataframe thead th {\n",
       "        text-align: right;\n",
       "    }\n",
       "</style>\n",
       "<table border=\"1\" class=\"dataframe\">\n",
       "  <thead>\n",
       "    <tr style=\"text-align: right;\">\n",
       "      <th></th>\n",
       "      <th>X</th>\n",
       "      <th>Y</th>\n",
       "      <th>month</th>\n",
       "      <th>day</th>\n",
       "      <th>FFMC</th>\n",
       "      <th>DMC</th>\n",
       "      <th>DC</th>\n",
       "      <th>ISI</th>\n",
       "      <th>temp</th>\n",
       "      <th>RH</th>\n",
       "      <th>wind</th>\n",
       "      <th>rain</th>\n",
       "      <th>area</th>\n",
       "      <th>area_km</th>\n",
       "    </tr>\n",
       "  </thead>\n",
       "  <tbody>\n",
       "    <tr>\n",
       "      <th>0</th>\n",
       "      <td>7</td>\n",
       "      <td>5</td>\n",
       "      <td>mar</td>\n",
       "      <td>fri</td>\n",
       "      <td>86.2</td>\n",
       "      <td>26.2</td>\n",
       "      <td>94.3</td>\n",
       "      <td>5.1</td>\n",
       "      <td>8.2</td>\n",
       "      <td>51</td>\n",
       "      <td>6.7</td>\n",
       "      <td>0.0</td>\n",
       "      <td>0.00</td>\n",
       "      <td>0.0000</td>\n",
       "    </tr>\n",
       "    <tr>\n",
       "      <th>1</th>\n",
       "      <td>7</td>\n",
       "      <td>4</td>\n",
       "      <td>oct</td>\n",
       "      <td>tue</td>\n",
       "      <td>90.6</td>\n",
       "      <td>35.4</td>\n",
       "      <td>669.1</td>\n",
       "      <td>6.7</td>\n",
       "      <td>18.0</td>\n",
       "      <td>33</td>\n",
       "      <td>0.9</td>\n",
       "      <td>0.0</td>\n",
       "      <td>0.00</td>\n",
       "      <td>0.0000</td>\n",
       "    </tr>\n",
       "    <tr>\n",
       "      <th>2</th>\n",
       "      <td>7</td>\n",
       "      <td>4</td>\n",
       "      <td>oct</td>\n",
       "      <td>sat</td>\n",
       "      <td>90.6</td>\n",
       "      <td>43.7</td>\n",
       "      <td>686.9</td>\n",
       "      <td>6.7</td>\n",
       "      <td>14.6</td>\n",
       "      <td>33</td>\n",
       "      <td>1.3</td>\n",
       "      <td>0.0</td>\n",
       "      <td>0.00</td>\n",
       "      <td>0.0000</td>\n",
       "    </tr>\n",
       "    <tr>\n",
       "      <th>3</th>\n",
       "      <td>8</td>\n",
       "      <td>6</td>\n",
       "      <td>mar</td>\n",
       "      <td>fri</td>\n",
       "      <td>91.7</td>\n",
       "      <td>33.3</td>\n",
       "      <td>77.5</td>\n",
       "      <td>9.0</td>\n",
       "      <td>8.3</td>\n",
       "      <td>97</td>\n",
       "      <td>4.0</td>\n",
       "      <td>0.2</td>\n",
       "      <td>0.00</td>\n",
       "      <td>0.0000</td>\n",
       "    </tr>\n",
       "    <tr>\n",
       "      <th>4</th>\n",
       "      <td>8</td>\n",
       "      <td>6</td>\n",
       "      <td>mar</td>\n",
       "      <td>sun</td>\n",
       "      <td>89.3</td>\n",
       "      <td>51.3</td>\n",
       "      <td>102.2</td>\n",
       "      <td>9.6</td>\n",
       "      <td>11.4</td>\n",
       "      <td>99</td>\n",
       "      <td>1.8</td>\n",
       "      <td>0.0</td>\n",
       "      <td>0.00</td>\n",
       "      <td>0.0000</td>\n",
       "    </tr>\n",
       "    <tr>\n",
       "      <th>...</th>\n",
       "      <td>...</td>\n",
       "      <td>...</td>\n",
       "      <td>...</td>\n",
       "      <td>...</td>\n",
       "      <td>...</td>\n",
       "      <td>...</td>\n",
       "      <td>...</td>\n",
       "      <td>...</td>\n",
       "      <td>...</td>\n",
       "      <td>...</td>\n",
       "      <td>...</td>\n",
       "      <td>...</td>\n",
       "      <td>...</td>\n",
       "      <td>...</td>\n",
       "    </tr>\n",
       "    <tr>\n",
       "      <th>512</th>\n",
       "      <td>4</td>\n",
       "      <td>3</td>\n",
       "      <td>aug</td>\n",
       "      <td>sun</td>\n",
       "      <td>81.6</td>\n",
       "      <td>56.7</td>\n",
       "      <td>665.6</td>\n",
       "      <td>1.9</td>\n",
       "      <td>27.8</td>\n",
       "      <td>32</td>\n",
       "      <td>2.7</td>\n",
       "      <td>0.0</td>\n",
       "      <td>6.44</td>\n",
       "      <td>0.0644</td>\n",
       "    </tr>\n",
       "    <tr>\n",
       "      <th>513</th>\n",
       "      <td>2</td>\n",
       "      <td>4</td>\n",
       "      <td>aug</td>\n",
       "      <td>sun</td>\n",
       "      <td>81.6</td>\n",
       "      <td>56.7</td>\n",
       "      <td>665.6</td>\n",
       "      <td>1.9</td>\n",
       "      <td>21.9</td>\n",
       "      <td>71</td>\n",
       "      <td>5.8</td>\n",
       "      <td>0.0</td>\n",
       "      <td>54.29</td>\n",
       "      <td>0.5429</td>\n",
       "    </tr>\n",
       "    <tr>\n",
       "      <th>514</th>\n",
       "      <td>7</td>\n",
       "      <td>4</td>\n",
       "      <td>aug</td>\n",
       "      <td>sun</td>\n",
       "      <td>81.6</td>\n",
       "      <td>56.7</td>\n",
       "      <td>665.6</td>\n",
       "      <td>1.9</td>\n",
       "      <td>21.2</td>\n",
       "      <td>70</td>\n",
       "      <td>6.7</td>\n",
       "      <td>0.0</td>\n",
       "      <td>11.16</td>\n",
       "      <td>0.1116</td>\n",
       "    </tr>\n",
       "    <tr>\n",
       "      <th>515</th>\n",
       "      <td>1</td>\n",
       "      <td>4</td>\n",
       "      <td>aug</td>\n",
       "      <td>sat</td>\n",
       "      <td>94.4</td>\n",
       "      <td>146.0</td>\n",
       "      <td>614.7</td>\n",
       "      <td>11.3</td>\n",
       "      <td>25.6</td>\n",
       "      <td>42</td>\n",
       "      <td>4.0</td>\n",
       "      <td>0.0</td>\n",
       "      <td>0.00</td>\n",
       "      <td>0.0000</td>\n",
       "    </tr>\n",
       "    <tr>\n",
       "      <th>516</th>\n",
       "      <td>6</td>\n",
       "      <td>3</td>\n",
       "      <td>nov</td>\n",
       "      <td>tue</td>\n",
       "      <td>79.5</td>\n",
       "      <td>3.0</td>\n",
       "      <td>106.7</td>\n",
       "      <td>1.1</td>\n",
       "      <td>11.8</td>\n",
       "      <td>31</td>\n",
       "      <td>4.5</td>\n",
       "      <td>0.0</td>\n",
       "      <td>0.00</td>\n",
       "      <td>0.0000</td>\n",
       "    </tr>\n",
       "  </tbody>\n",
       "</table>\n",
       "<p>517 rows × 14 columns</p>\n",
       "</div>"
      ],
      "text/plain": [
       "     X  Y month  day  FFMC    DMC     DC   ISI  temp  RH  wind  rain   area  \\\n",
       "0    7  5   mar  fri  86.2   26.2   94.3   5.1   8.2  51   6.7   0.0   0.00   \n",
       "1    7  4   oct  tue  90.6   35.4  669.1   6.7  18.0  33   0.9   0.0   0.00   \n",
       "2    7  4   oct  sat  90.6   43.7  686.9   6.7  14.6  33   1.3   0.0   0.00   \n",
       "3    8  6   mar  fri  91.7   33.3   77.5   9.0   8.3  97   4.0   0.2   0.00   \n",
       "4    8  6   mar  sun  89.3   51.3  102.2   9.6  11.4  99   1.8   0.0   0.00   \n",
       "..  .. ..   ...  ...   ...    ...    ...   ...   ...  ..   ...   ...    ...   \n",
       "512  4  3   aug  sun  81.6   56.7  665.6   1.9  27.8  32   2.7   0.0   6.44   \n",
       "513  2  4   aug  sun  81.6   56.7  665.6   1.9  21.9  71   5.8   0.0  54.29   \n",
       "514  7  4   aug  sun  81.6   56.7  665.6   1.9  21.2  70   6.7   0.0  11.16   \n",
       "515  1  4   aug  sat  94.4  146.0  614.7  11.3  25.6  42   4.0   0.0   0.00   \n",
       "516  6  3   nov  tue  79.5    3.0  106.7   1.1  11.8  31   4.5   0.0   0.00   \n",
       "\n",
       "     area_km  \n",
       "0     0.0000  \n",
       "1     0.0000  \n",
       "2     0.0000  \n",
       "3     0.0000  \n",
       "4     0.0000  \n",
       "..       ...  \n",
       "512   0.0644  \n",
       "513   0.5429  \n",
       "514   0.1116  \n",
       "515   0.0000  \n",
       "516   0.0000  \n",
       "\n",
       "[517 rows x 14 columns]"
      ]
     },
     "execution_count": 23,
     "metadata": {},
     "output_type": "execute_result"
    }
   ],
   "source": [
    "forest_df"
   ]
  },
  {
   "cell_type": "markdown",
   "metadata": {
    "id": "dBJUYd9_q-6L",
    "papermill": {
     "duration": 0.068222,
     "end_time": "2020-09-24T12:37:13.316278",
     "exception": false,
     "start_time": "2020-09-24T12:37:13.248056",
     "status": "completed"
    },
    "tags": []
   },
   "source": [
    "#### Asking and Answering Questions\n",
    "\n"
   ]
  },
  {
   "cell_type": "markdown",
   "metadata": {
    "papermill": {
     "duration": 0.068058,
     "end_time": "2020-09-24T12:37:13.452390",
     "exception": false,
     "start_time": "2020-09-24T12:37:13.384332",
     "status": "completed"
    },
    "tags": []
   },
   "source": [
    "## Q: What is the month wise area per sq km flow count?"
   ]
  },
  {
   "cell_type": "raw",
   "metadata": {
    "id": "NkfGkGVWq-6M",
    "papermill": {
     "duration": 0.069255,
     "end_time": "2020-09-24T12:37:13.591621",
     "exception": false,
     "start_time": "2020-09-24T12:37:13.522366",
     "status": "completed"
    },
    "tags": []
   },
   "source": [
    "month_wise_area_km_count = forest_df.groupby(['month'])['area_km'].count()\n",
    "print(month_wise_area_km_count)\n",
    "\n",
    "plt.figure(figsize=(12, 10))\n",
    "plt.title(\"month wise area km counts\")\n",
    "\n",
    "plt.xlabel(\"Month Wise Area Km\")\n",
    "plt.ylabel(\"Months\")\n",
    "plt.bar(month_wise_area_km_count.index, month_wise_area_km_count.values);"
   ]
  },
  {
   "cell_type": "markdown",
   "metadata": {
    "id": "cbNxnDg_q-6O",
    "papermill": {
     "duration": 0.068967,
     "end_time": "2020-09-24T12:37:13.729895",
     "exception": false,
     "start_time": "2020-09-24T12:37:13.660928",
     "status": "completed"
    },
    "tags": []
   },
   "source": [
    "## Q: What is the X and Y values in compare to area per sq. km wise ?"
   ]
  },
  {
   "cell_type": "code",
   "execution_count": 24,
   "metadata": {
    "execution": {
     "iopub.execute_input": "2020-09-24T12:37:13.884166Z",
     "iopub.status.busy": "2020-09-24T12:37:13.881449Z",
     "iopub.status.idle": "2020-09-24T12:37:14.210207Z",
     "shell.execute_reply": "2020-09-24T12:37:14.209596Z"
    },
    "id": "bYaP2Aymq-6Q",
    "papermill": {
     "duration": 0.411329,
     "end_time": "2020-09-24T12:37:14.210333",
     "exception": false,
     "start_time": "2020-09-24T12:37:13.799004",
     "status": "completed"
    },
    "tags": []
   },
   "outputs": [
    {
     "data": {
      "image/png": "[encoded data removed]",
      "text/plain": [
       "<Figure size 720x504 with 1 Axes>"
      ]
     },
     "metadata": {},
     "output_type": "display_data"
    }
   ],
   "source": [
    "plt.figure(figsize=(10, 7))\n",
    "\n",
    "plt.scatter(forest_df['X'], forest_df['area_km'])\n",
    "plt.scatter(forest_df['Y'], forest_df['area_km'])\n",
    "\n",
    "\n",
    "plt.show()"
   ]
  },
  {
   "cell_type": "markdown",
   "metadata": {
    "papermill": {
     "duration": 0.069132,
     "end_time": "2020-09-24T12:37:14.348868",
     "exception": false,
     "start_time": "2020-09-24T12:37:14.279736",
     "status": "completed"
    },
    "tags": []
   },
   "source": [
    "## Q: What is the highest rain and give the month and days."
   ]
  },
  {
   "cell_type": "code",
   "execution_count": 25,
   "metadata": {
    "execution": {
     "iopub.execute_input": "2020-09-24T12:37:14.494477Z",
     "iopub.status.busy": "2020-09-24T12:37:14.493645Z",
     "iopub.status.idle": "2020-09-24T12:37:14.507324Z",
     "shell.execute_reply": "2020-09-24T12:37:14.506700Z"
    },
    "papermill": {
     "duration": 0.08933,
     "end_time": "2020-09-24T12:37:14.507456",
     "exception": false,
     "start_time": "2020-09-24T12:37:14.418126",
     "status": "completed"
    },
    "scrolled": true,
    "tags": []
   },
   "outputs": [
    {
     "data": {
      "text/html": [
       "<div>\n",
       "<style scoped>\n",
       "    .dataframe tbody tr th:only-of-type {\n",
       "        vertical-align: middle;\n",
       "    }\n",
       "\n",
       "    .dataframe tbody tr th {\n",
       "        vertical-align: top;\n",
       "    }\n",
       "\n",
       "    .dataframe thead th {\n",
       "        text-align: right;\n",
       "    }\n",
       "</style>\n",
       "<table border=\"1\" class=\"dataframe\">\n",
       "  <thead>\n",
       "    <tr style=\"text-align: right;\">\n",
       "      <th></th>\n",
       "      <th>month</th>\n",
       "      <th>day</th>\n",
       "      <th>rain</th>\n",
       "    </tr>\n",
       "  </thead>\n",
       "  <tbody>\n",
       "    <tr>\n",
       "      <th>499</th>\n",
       "      <td>aug</td>\n",
       "      <td>tue</td>\n",
       "      <td>6.4</td>\n",
       "    </tr>\n",
       "    <tr>\n",
       "      <th>509</th>\n",
       "      <td>aug</td>\n",
       "      <td>fri</td>\n",
       "      <td>1.4</td>\n",
       "    </tr>\n",
       "    <tr>\n",
       "      <th>243</th>\n",
       "      <td>aug</td>\n",
       "      <td>sun</td>\n",
       "      <td>1.0</td>\n",
       "    </tr>\n",
       "    <tr>\n",
       "      <th>500</th>\n",
       "      <td>aug</td>\n",
       "      <td>tue</td>\n",
       "      <td>0.8</td>\n",
       "    </tr>\n",
       "    <tr>\n",
       "      <th>501</th>\n",
       "      <td>aug</td>\n",
       "      <td>tue</td>\n",
       "      <td>0.8</td>\n",
       "    </tr>\n",
       "  </tbody>\n",
       "</table>\n",
       "</div>"
      ],
      "text/plain": [
       "    month  day  rain\n",
       "499   aug  tue   6.4\n",
       "509   aug  fri   1.4\n",
       "243   aug  sun   1.0\n",
       "500   aug  tue   0.8\n",
       "501   aug  tue   0.8"
      ]
     },
     "execution_count": 25,
     "metadata": {},
     "output_type": "execute_result"
    }
   ],
   "source": [
    "\n",
    "highest_rain = forest_df.sort_values(by='rain', ascending=False)[['month', 'day', 'rain']].head()\n",
    "highest_rain\n"
   ]
  },
  {
   "cell_type": "markdown",
   "metadata": {
    "papermill": {
     "duration": 0.071327,
     "end_time": "2020-09-24T12:37:14.652162",
     "exception": false,
     "start_time": "2020-09-24T12:37:14.580835",
     "status": "completed"
    },
    "tags": []
   },
   "source": [
    "###### In this dataframe, Mostly highest rain fall in the Auguest Month."
   ]
  },
  {
   "cell_type": "markdown",
   "metadata": {
    "papermill": {
     "duration": 0.070611,
     "end_time": "2020-09-24T12:37:14.796059",
     "exception": false,
     "start_time": "2020-09-24T12:37:14.725448",
     "status": "completed"
    },
    "tags": []
   },
   "source": [
    "## Q: Give the highest and lowest temperature in month and day wise."
   ]
  },
  {
   "cell_type": "code",
   "execution_count": 26,
   "metadata": {
    "execution": {
     "iopub.execute_input": "2020-09-24T12:37:14.998398Z",
     "iopub.status.busy": "2020-09-24T12:37:14.996423Z",
     "iopub.status.idle": "2020-09-24T12:37:15.013065Z",
     "shell.execute_reply": "2020-09-24T12:37:15.014260Z"
    },
    "papermill": {
     "duration": 0.147851,
     "end_time": "2020-09-24T12:37:15.014525",
     "exception": false,
     "start_time": "2020-09-24T12:37:14.866674",
     "status": "completed"
    },
    "tags": []
   },
   "outputs": [
    {
     "name": "stdout",
     "output_type": "stream",
     "text": [
      "Highest Temperature\n",
      "    month  day  temp\n",
      "498   aug  tue  33.3\n",
      "484   aug  sun  33.1\n",
      "496   aug  mon  32.6\n",
      "492   aug  fri  32.4\n",
      "491   aug  thu  32.4\n",
      "\n",
      "\n",
      "Lowest Temperature\n",
      "    month  day  temp\n",
      "280   dec  fri   2.2\n",
      "282   feb  sun   4.2\n",
      "279   dec  mon   4.6\n",
      "278   dec  mon   4.6\n",
      "277   dec  mon   4.6\n"
     ]
    }
   ],
   "source": [
    "highest_temp = forest_df.sort_values(by='temp', ascending=False)[['month', 'day', 'temp']].head()\n",
    "\n",
    "lowest_temp =  forest_df.sort_values(by='temp', ascending=True)[['month', 'day', 'temp']].head()\n",
    "\n",
    "print(\"Highest Temperature\")\n",
    "\n",
    "print(highest_temp)\n",
    "\n",
    "print()\n",
    "\n",
    "print()\n",
    "\n",
    "print(\"Lowest Temperature\")\n",
    "print(lowest_temp)\n"
   ]
  },
  {
   "cell_type": "code",
   "execution_count": 27,
   "metadata": {
    "execution": {
     "iopub.execute_input": "2020-09-24T12:37:15.172047Z",
     "iopub.status.busy": "2020-09-24T12:37:15.171227Z",
     "iopub.status.idle": "2020-09-24T12:37:15.356715Z",
     "shell.execute_reply": "2020-09-24T12:37:15.356070Z"
    },
    "papermill": {
     "duration": 0.270001,
     "end_time": "2020-09-24T12:37:15.356849",
     "exception": false,
     "start_time": "2020-09-24T12:37:15.086848",
     "status": "completed"
    },
    "tags": []
   },
   "outputs": [
    {
     "data": {
      "image/png": "[encoded data removed]",
      "text/plain": [
       "<Figure size 648x432 with 1 Axes>"
      ]
     },
     "metadata": {},
     "output_type": "display_data"
    }
   ],
   "source": [
    "plt.figure(figsize=(9, 6))\n",
    "\n",
    "plt.title(\"Highest Temperature in Aug.  Month\")\n",
    "\n",
    "plt.bar(highest_temp['day'], highest_temp['temp'])\n",
    "\n",
    "plt.xlabel(\"Day\")\n",
    "plt.xlabel(\"Aug. Month\")\n",
    "\n",
    "\n",
    "plt.ylabel(\"Temperature\")\n",
    "plt.show()"
   ]
  },
  {
   "cell_type": "code",
   "execution_count": 28,
   "metadata": {
    "execution": {
     "iopub.execute_input": "2020-09-24T12:37:15.522599Z",
     "iopub.status.busy": "2020-09-24T12:37:15.517118Z",
     "iopub.status.idle": "2020-09-24T12:37:15.683825Z",
     "shell.execute_reply": "2020-09-24T12:37:15.683006Z"
    },
    "papermill": {
     "duration": 0.253791,
     "end_time": "2020-09-24T12:37:15.683976",
     "exception": false,
     "start_time": "2020-09-24T12:37:15.430185",
     "status": "completed"
    },
    "tags": []
   },
   "outputs": [
    {
     "data": {
      "image/png": "[encoded data removed]",
      "text/plain": [
       "<Figure size 648x432 with 1 Axes>"
      ]
     },
     "metadata": {},
     "output_type": "display_data"
    }
   ],
   "source": [
    "plt.figure(figsize=(9, 6))\n",
    "\n",
    "plt.title(\"Lowest Temperature in Dec. and Feb.  Month\")\n",
    "\n",
    "plt.bar(lowest_temp['day'], lowest_temp['temp'])\n",
    "\n",
    "plt.xlabel(\"Day\")\n",
    "plt.xlabel(\"Dec. and Feb. Month\")\n",
    "\n",
    "plt.ylabel(\"Temperature\")\n",
    "\n",
    "plt.show()"
   ]
  },
  {
   "cell_type": "code",
   "execution_count": 29,
   "metadata": {
    "execution": {
     "iopub.execute_input": "2020-09-24T12:37:15.863120Z",
     "iopub.status.busy": "2020-09-24T12:37:15.862074Z",
     "iopub.status.idle": "2020-09-24T12:37:15.867481Z",
     "shell.execute_reply": "2020-09-24T12:37:15.866709Z"
    },
    "id": "On9K8g4mq-6Z",
    "papermill": {
     "duration": 0.108988,
     "end_time": "2020-09-24T12:37:15.867603",
     "exception": false,
     "start_time": "2020-09-24T12:37:15.758615",
     "status": "completed"
    },
    "scrolled": true,
    "tags": []
   },
   "outputs": [
    {
     "data": {
      "text/html": [
       "<div>\n",
       "<style scoped>\n",
       "    .dataframe tbody tr th:only-of-type {\n",
       "        vertical-align: middle;\n",
       "    }\n",
       "\n",
       "    .dataframe tbody tr th {\n",
       "        vertical-align: top;\n",
       "    }\n",
       "\n",
       "    .dataframe thead th {\n",
       "        text-align: right;\n",
       "    }\n",
       "</style>\n",
       "<table border=\"1\" class=\"dataframe\">\n",
       "  <thead>\n",
       "    <tr style=\"text-align: right;\">\n",
       "      <th></th>\n",
       "      <th>X</th>\n",
       "      <th>Y</th>\n",
       "      <th>month</th>\n",
       "      <th>day</th>\n",
       "      <th>FFMC</th>\n",
       "      <th>DMC</th>\n",
       "      <th>DC</th>\n",
       "      <th>ISI</th>\n",
       "      <th>temp</th>\n",
       "      <th>RH</th>\n",
       "      <th>wind</th>\n",
       "      <th>rain</th>\n",
       "      <th>area</th>\n",
       "      <th>area_km</th>\n",
       "    </tr>\n",
       "  </thead>\n",
       "  <tbody>\n",
       "    <tr>\n",
       "      <th>0</th>\n",
       "      <td>7</td>\n",
       "      <td>5</td>\n",
       "      <td>mar</td>\n",
       "      <td>fri</td>\n",
       "      <td>86.2</td>\n",
       "      <td>26.2</td>\n",
       "      <td>94.3</td>\n",
       "      <td>5.1</td>\n",
       "      <td>8.2</td>\n",
       "      <td>51</td>\n",
       "      <td>6.7</td>\n",
       "      <td>0.0</td>\n",
       "      <td>0.00</td>\n",
       "      <td>0.0000</td>\n",
       "    </tr>\n",
       "    <tr>\n",
       "      <th>1</th>\n",
       "      <td>7</td>\n",
       "      <td>4</td>\n",
       "      <td>oct</td>\n",
       "      <td>tue</td>\n",
       "      <td>90.6</td>\n",
       "      <td>35.4</td>\n",
       "      <td>669.1</td>\n",
       "      <td>6.7</td>\n",
       "      <td>18.0</td>\n",
       "      <td>33</td>\n",
       "      <td>0.9</td>\n",
       "      <td>0.0</td>\n",
       "      <td>0.00</td>\n",
       "      <td>0.0000</td>\n",
       "    </tr>\n",
       "    <tr>\n",
       "      <th>2</th>\n",
       "      <td>7</td>\n",
       "      <td>4</td>\n",
       "      <td>oct</td>\n",
       "      <td>sat</td>\n",
       "      <td>90.6</td>\n",
       "      <td>43.7</td>\n",
       "      <td>686.9</td>\n",
       "      <td>6.7</td>\n",
       "      <td>14.6</td>\n",
       "      <td>33</td>\n",
       "      <td>1.3</td>\n",
       "      <td>0.0</td>\n",
       "      <td>0.00</td>\n",
       "      <td>0.0000</td>\n",
       "    </tr>\n",
       "    <tr>\n",
       "      <th>3</th>\n",
       "      <td>8</td>\n",
       "      <td>6</td>\n",
       "      <td>mar</td>\n",
       "      <td>fri</td>\n",
       "      <td>91.7</td>\n",
       "      <td>33.3</td>\n",
       "      <td>77.5</td>\n",
       "      <td>9.0</td>\n",
       "      <td>8.3</td>\n",
       "      <td>97</td>\n",
       "      <td>4.0</td>\n",
       "      <td>0.2</td>\n",
       "      <td>0.00</td>\n",
       "      <td>0.0000</td>\n",
       "    </tr>\n",
       "    <tr>\n",
       "      <th>4</th>\n",
       "      <td>8</td>\n",
       "      <td>6</td>\n",
       "      <td>mar</td>\n",
       "      <td>sun</td>\n",
       "      <td>89.3</td>\n",
       "      <td>51.3</td>\n",
       "      <td>102.2</td>\n",
       "      <td>9.6</td>\n",
       "      <td>11.4</td>\n",
       "      <td>99</td>\n",
       "      <td>1.8</td>\n",
       "      <td>0.0</td>\n",
       "      <td>0.00</td>\n",
       "      <td>0.0000</td>\n",
       "    </tr>\n",
       "    <tr>\n",
       "      <th>...</th>\n",
       "      <td>...</td>\n",
       "      <td>...</td>\n",
       "      <td>...</td>\n",
       "      <td>...</td>\n",
       "      <td>...</td>\n",
       "      <td>...</td>\n",
       "      <td>...</td>\n",
       "      <td>...</td>\n",
       "      <td>...</td>\n",
       "      <td>...</td>\n",
       "      <td>...</td>\n",
       "      <td>...</td>\n",
       "      <td>...</td>\n",
       "      <td>...</td>\n",
       "    </tr>\n",
       "    <tr>\n",
       "      <th>512</th>\n",
       "      <td>4</td>\n",
       "      <td>3</td>\n",
       "      <td>aug</td>\n",
       "      <td>sun</td>\n",
       "      <td>81.6</td>\n",
       "      <td>56.7</td>\n",
       "      <td>665.6</td>\n",
       "      <td>1.9</td>\n",
       "      <td>27.8</td>\n",
       "      <td>32</td>\n",
       "      <td>2.7</td>\n",
       "      <td>0.0</td>\n",
       "      <td>6.44</td>\n",
       "      <td>0.0644</td>\n",
       "    </tr>\n",
       "    <tr>\n",
       "      <th>513</th>\n",
       "      <td>2</td>\n",
       "      <td>4</td>\n",
       "      <td>aug</td>\n",
       "      <td>sun</td>\n",
       "      <td>81.6</td>\n",
       "      <td>56.7</td>\n",
       "      <td>665.6</td>\n",
       "      <td>1.9</td>\n",
       "      <td>21.9</td>\n",
       "      <td>71</td>\n",
       "      <td>5.8</td>\n",
       "      <td>0.0</td>\n",
       "      <td>54.29</td>\n",
       "      <td>0.5429</td>\n",
       "    </tr>\n",
       "    <tr>\n",
       "      <th>514</th>\n",
       "      <td>7</td>\n",
       "      <td>4</td>\n",
       "      <td>aug</td>\n",
       "      <td>sun</td>\n",
       "      <td>81.6</td>\n",
       "      <td>56.7</td>\n",
       "      <td>665.6</td>\n",
       "      <td>1.9</td>\n",
       "      <td>21.2</td>\n",
       "      <td>70</td>\n",
       "      <td>6.7</td>\n",
       "      <td>0.0</td>\n",
       "      <td>11.16</td>\n",
       "      <td>0.1116</td>\n",
       "    </tr>\n",
       "    <tr>\n",
       "      <th>515</th>\n",
       "      <td>1</td>\n",
       "      <td>4</td>\n",
       "      <td>aug</td>\n",
       "      <td>sat</td>\n",
       "      <td>94.4</td>\n",
       "      <td>146.0</td>\n",
       "      <td>614.7</td>\n",
       "      <td>11.3</td>\n",
       "      <td>25.6</td>\n",
       "      <td>42</td>\n",
       "      <td>4.0</td>\n",
       "      <td>0.0</td>\n",
       "      <td>0.00</td>\n",
       "      <td>0.0000</td>\n",
       "    </tr>\n",
       "    <tr>\n",
       "      <th>516</th>\n",
       "      <td>6</td>\n",
       "      <td>3</td>\n",
       "      <td>nov</td>\n",
       "      <td>tue</td>\n",
       "      <td>79.5</td>\n",
       "      <td>3.0</td>\n",
       "      <td>106.7</td>\n",
       "      <td>1.1</td>\n",
       "      <td>11.8</td>\n",
       "      <td>31</td>\n",
       "      <td>4.5</td>\n",
       "      <td>0.0</td>\n",
       "      <td>0.00</td>\n",
       "      <td>0.0000</td>\n",
       "    </tr>\n",
       "  </tbody>\n",
       "</table>\n",
       "<p>517 rows × 14 columns</p>\n",
       "</div>"
      ],
      "text/plain": [
       "     X  Y month  day  FFMC    DMC     DC   ISI  temp  RH  wind  rain   area  \\\n",
       "0    7  5   mar  fri  86.2   26.2   94.3   5.1   8.2  51   6.7   0.0   0.00   \n",
       "1    7  4   oct  tue  90.6   35.4  669.1   6.7  18.0  33   0.9   0.0   0.00   \n",
       "2    7  4   oct  sat  90.6   43.7  686.9   6.7  14.6  33   1.3   0.0   0.00   \n",
       "3    8  6   mar  fri  91.7   33.3   77.5   9.0   8.3  97   4.0   0.2   0.00   \n",
       "4    8  6   mar  sun  89.3   51.3  102.2   9.6  11.4  99   1.8   0.0   0.00   \n",
       "..  .. ..   ...  ...   ...    ...    ...   ...   ...  ..   ...   ...    ...   \n",
       "512  4  3   aug  sun  81.6   56.7  665.6   1.9  27.8  32   2.7   0.0   6.44   \n",
       "513  2  4   aug  sun  81.6   56.7  665.6   1.9  21.9  71   5.8   0.0  54.29   \n",
       "514  7  4   aug  sun  81.6   56.7  665.6   1.9  21.2  70   6.7   0.0  11.16   \n",
       "515  1  4   aug  sat  94.4  146.0  614.7  11.3  25.6  42   4.0   0.0   0.00   \n",
       "516  6  3   nov  tue  79.5    3.0  106.7   1.1  11.8  31   4.5   0.0   0.00   \n",
       "\n",
       "     area_km  \n",
       "0     0.0000  \n",
       "1     0.0000  \n",
       "2     0.0000  \n",
       "3     0.0000  \n",
       "4     0.0000  \n",
       "..       ...  \n",
       "512   0.0644  \n",
       "513   0.5429  \n",
       "514   0.1116  \n",
       "515   0.0000  \n",
       "516   0.0000  \n",
       "\n",
       "[517 rows x 14 columns]"
      ]
     },
     "execution_count": 29,
     "metadata": {},
     "output_type": "execute_result"
    }
   ],
   "source": [
    "forest_df"
   ]
  },
  {
   "cell_type": "markdown",
   "metadata": {
    "papermill": {
     "duration": 0.075291,
     "end_time": "2020-09-24T12:37:16.019173",
     "exception": false,
     "start_time": "2020-09-24T12:37:15.943882",
     "status": "completed"
    },
    "tags": []
   },
   "source": [
    "## Inferences and Conclusion\n",
    "\n",
    "\n",
    "- Using Matplotlib and Seaborn, We can analysis in depth using diffrent kind of datasets. In this project we had seen the area wise forest fire and diffret kind of temperature and rainning falls. Also we can more analysis the other features too. Using diffrent kind of visual graphs. Such as, Group, CateGraph, Distribution Plots, Statastical Plots, PaiChart, Violine Plots and many more.\n",
    "\n",
    "\n",
    "## References and Future Work\n",
    "\n",
    "\n",
    "### Regerence Links\n",
    "\n",
    "<!-- [NumPy] (https://numpy.org/doc/stable/index.html) -->\n",
    "\n",
    "<!-- [Pandas Package] (https://pandas.pydata.org/) -->\n",
    "\n",
    "<!-- [Matplotlob] (https://matplotlib.org/) -->\n",
    "\n",
    "[MatPlotLib Gallary] (https://matplotlib.org/gallery.html)\n",
    "\n",
    "[Seaborn] (https://seaborn.pydata.org/)\n",
    "\n",
    "[Seaborn Gallary] (https://seaborn.pydata.org/examples/index.html)\n",
    "\n",
    "<!-- [Data Analysis with Python: Zero to Pandas] (https://jovian.ml/learn/data-analysis-with-python-zero-to-pandas) -->\n",
    "\n",
    "<!-- [Numerical Computing with Numpy] (https://jovian.ml/learn/data-analysis-with-python-zero-to-pandas/lesson/lesson-3-numerical-computing-with-numpy) -->\n",
    "\n",
    "<!-- [Analyzing Tabular Data with Pandas] (https://jovian.ml/learn/data-analysis-with-python-zero-to-pandas/lesson/lesson-4-analyzing-tabular-data-with-pandas) -->\n",
    "\n",
    "<!-- [Visualization with Matplotlib and Seaborn] (https://jovian.ml/learn/data-analysis-with-python-zero-to-pandas/lesson/lesson-5-data-visualization-with-matplotlib-and-seaborn) -->\n",
    "\n",
    "<!-- [Exploratory Data Analysis - A Case Study] (https://jovian.ml/learn/data-analysis-with-python-zero-to-pandas/lesson/lesson-6-exploratory-data-analysis-a-case-study) -->\n",
    "\n",
    "\n",
    "---\n",
    "\n",
    "### Future Work\n",
    "\n",
    "<h4 class='text-info'>Doing some more visualization and analysis using this dataset and implement some machine learning model in it.\n",
    "</h4>\n",
    "\n",
    "---\n",
    "\n",
    "\n",
    "\n",
    "<h3 class='text-success' >I hope you enjoy in this kernel and give Upvote it. 👍</h3>\n",
    "\n",
    "--- \n",
    "---\n",
    "\n",
    "<div class=\"text-center \">\n",
    "    <h1 class='text-primary bg-info'>That's it Guys,</h1>\n",
    "    <h1>🙏</h1>\n",
    "    \n",
    "        \n",
    "        I Hope you guys you like and enjoy it, and learn something interesting things from this notebook, \n",
    "        \n",
    "        Even I learn a lots of things while I'm creating this notebook\n",
    "    \n",
    "        Keep Learning,\n",
    "        Regards,\n",
    "        Vikas Ukani.\n",
    "    \n",
    "</div>\n",
    "\n",
    "---\n",
    "---\n",
    "\n",
    "<img src=\"https://static.wixstatic.com/media/3592ed_5453a1ea302b4c4588413007ac4fcb93~mv2.gif\" align=\"center\" alt=\"Thank You\"  width=\"90%\" />\n",
    "\n"
   ]
  }
 ],
 "metadata": {
  "kernelspec": {
   "display_name": "Python 3",
   "language": "python",
   "name": "python3"
  },
  "language_info": {
   "codemirror_mode": {
    "name": "ipython",
    "version": 3
   },
   "file_extension": ".py",
   "mimetype": "text/x-python",
   "name": "python",
   "nbconvert_exporter": "python",
   "pygments_lexer": "ipython3",
   "version": "3.7.6"
  },
  "papermill": {
   "duration": 24.599548,
   "end_time": "2020-09-24T12:37:16.204258",
   "environment_variables": {},
   "exception": null,
   "input_path": "__notebook__.ipynb",
   "output_path": "__notebook__.ipynb",
   "parameters": {},
   "start_time": "2020-09-24T12:36:51.604710",
   "version": "2.1.0"
  }
 },
 "nbformat": 4,
 "nbformat_minor": 4
}
